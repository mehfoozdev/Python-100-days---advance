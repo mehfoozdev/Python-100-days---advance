{
 "cells": [
  {
   "cell_type": "markdown",
   "metadata": {},
   "source": [
    "# Python Basics to Advance (100 Days)"
   ]
  },
  {
   "cell_type": "markdown",
   "metadata": {},
   "source": [
    "#### Day 21 - Sum of Series | Sum of Series"
   ]
  },
  {
   "cell_type": "code",
   "execution_count": 2,
   "metadata": {},
   "outputs": [
    {
     "name": "stdout",
     "output_type": "stream",
     "text": [
      "15\n"
     ]
    }
   ],
   "source": [
    "num = int(input('Enter a number: '))\n",
    "s = 0\n",
    "\n",
    "for a in range(1, num+1):\n",
    "    s += a\n",
    "\n",
    "print(s)"
   ]
  },
  {
   "cell_type": "code",
   "execution_count": 11,
   "metadata": {},
   "outputs": [
    {
     "name": "stdout",
     "output_type": "stream",
     "text": [
      "1/1 + 1/2 + 1/3 + 1/4 + 1/5\n",
      "\n",
      "\n",
      "Result is :  2.28\n"
     ]
    }
   ],
   "source": [
    "num = int(input('Enter a number: '))\n",
    "s = 0\n",
    "\n",
    "for a in range(1, num+1):\n",
    "    if a<num:\n",
    "        print('1/'+str(a), end=' + ')\n",
    "    else:\n",
    "        print('1/'+str(a))\n",
    "    s += 1/a\n",
    "\n",
    "print(\"\\n\\nResult is : \",round(s, 2))"
   ]
  },
  {
   "cell_type": "code",
   "execution_count": null,
   "metadata": {},
   "outputs": [],
   "source": []
  }
 ],
 "metadata": {
  "kernelspec": {
   "display_name": "Python 3",
   "language": "python",
   "name": "python3"
  },
  "language_info": {
   "codemirror_mode": {
    "name": "ipython",
    "version": 3
   },
   "file_extension": ".py",
   "mimetype": "text/x-python",
   "name": "python",
   "nbconvert_exporter": "python",
   "pygments_lexer": "ipython3",
   "version": "3.9.5"
  }
 },
 "nbformat": 4,
 "nbformat_minor": 2
}
