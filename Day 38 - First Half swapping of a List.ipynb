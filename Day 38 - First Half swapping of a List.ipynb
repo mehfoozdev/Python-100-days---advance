{
 "cells": [
  {
   "cell_type": "code",
   "execution_count": 7,
   "id": "72660dd0-e129-406e-806a-132691573690",
   "metadata": {},
   "outputs": [
    {
     "name": "stdout",
     "output_type": "stream",
     "text": [
      "[46, 11, 34, 20, 18, 30]\n"
     ]
    }
   ],
   "source": [
    "# Solving with Logic behind it.\n",
    "\n",
    "A = [20,18,30,46,11,34]\n",
    "n = len(A)\n",
    "\n",
    "if n% 2 == 0:\n",
    "    gap = n //2\n",
    "else:\n",
    "    gap = n//2 + 1\n",
    "    \n",
    "for i in range(n//2):\n",
    "    A[i],A[i+gap] = A[i+gap],A[i]\n",
    "\n",
    "print(A)"
   ]
  },
  {
   "cell_type": "code",
   "execution_count": null,
   "id": "7535a106-b8d8-485d-a4a8-2bc456f64f28",
   "metadata": {},
   "outputs": [],
   "source": []
  },
  {
   "cell_type": "code",
   "execution_count": 17,
   "id": "c6b5c04b-a9a7-4f05-a623-da8d37876683",
   "metadata": {},
   "outputs": [
    {
     "name": "stdout",
     "output_type": "stream",
     "text": [
      "Before :  [20, 18, 30, 46, 11, 34, 50]\n",
      "After  :  [11, 34, 50, 46, 20, 18, 30]\n"
     ]
    }
   ],
   "source": [
    "# Solving with Logic behind it.\n",
    "\n",
    "A = [20,18,30,46,11,34,50]\n",
    "n = len(A)\n",
    "print(f\"Before : \", A)\n",
    "if n% 2 == 0:\n",
    "    gap = n //2\n",
    "else:\n",
    "    gap = n//2 + 1\n",
    "    \n",
    "for i in range(n//2):\n",
    "    A[i],A[i+gap] = A[i+gap],A[i]\n",
    "\n",
    "print(f\"After  : \", A)"
   ]
  }
 ],
 "metadata": {
  "kernelspec": {
   "display_name": "Python 3 (ipykernel)",
   "language": "python",
   "name": "python3"
  },
  "language_info": {
   "codemirror_mode": {
    "name": "ipython",
    "version": 3
   },
   "file_extension": ".py",
   "mimetype": "text/x-python",
   "name": "python",
   "nbconvert_exporter": "python",
   "pygments_lexer": "ipython3",
   "version": "3.12.4"
  }
 },
 "nbformat": 4,
 "nbformat_minor": 5
}
