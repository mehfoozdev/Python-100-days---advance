{
 "cells": [
  {
   "cell_type": "code",
   "execution_count": 1,
   "id": "41660d1a-c626-4b89-81c2-5f0d4d5330e0",
   "metadata": {},
   "outputs": [],
   "source": [
    "#Strengh of password."
   ]
  },
  {
   "cell_type": "code",
   "execution_count": 12,
   "id": "6d77165d-fbd2-4eef-ae6e-ac05bc8157cc",
   "metadata": {},
   "outputs": [
    {
     "name": "stdin",
     "output_type": "stream",
     "text": [
      "Enter password :  Mehfooz2644944@!.\n"
     ]
    }
   ],
   "source": [
    "def checkPassword(password):\n",
    "    c = 0\n",
    "    s = 0\n",
    "    d = 0\n",
    "    b = 0\n",
    "    a = 0\n",
    "    n = len(password)\n",
    "    if (n>=8 and n<=16):\n",
    "        for ch in password:\n",
    "            if ch.isupper():\n",
    "                c += 1\n",
    "            elif ch.islower():\n",
    "                s += 1\n",
    "            elif ch.isdigit():\n",
    "                d += 1\n",
    "            elif ch in \".,:!@#$%^&*\":\n",
    "                b += 1\n",
    "            else:\n",
    "                a += 1\n",
    "                break\n",
    "        if a != 0:\n",
    "            print(\"Invalid Password\")\n",
    "        else:\n",
    "            if c>0 and s>0 and d>0 and b>0:\n",
    "                print(\"Password strenght is strong \")\n",
    "            else:\n",
    "                print(\"Weak password \")\n",
    "\n",
    "password = input(\"Enter password : \")\n",
    "checkPassword(password)\n"
   ]
  },
  {
   "cell_type": "code",
   "execution_count": null,
   "id": "2d633a70-b0d3-4ef2-93f2-bfdf0932c85d",
   "metadata": {},
   "outputs": [],
   "source": []
  }
 ],
 "metadata": {
  "kernelspec": {
   "display_name": "Python 3 (ipykernel)",
   "language": "python",
   "name": "python3"
  },
  "language_info": {
   "codemirror_mode": {
    "name": "ipython",
    "version": 3
   },
   "file_extension": ".py",
   "mimetype": "text/x-python",
   "name": "python",
   "nbconvert_exporter": "python",
   "pygments_lexer": "ipython3",
   "version": "3.12.4"
  }
 },
 "nbformat": 4,
 "nbformat_minor": 5
}
