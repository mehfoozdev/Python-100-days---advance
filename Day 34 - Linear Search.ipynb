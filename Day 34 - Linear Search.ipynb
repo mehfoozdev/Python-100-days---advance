{
 "cells": [
  {
   "cell_type": "code",
   "execution_count": 41,
   "id": "ae20a0c2-27e3-4f29-8b79-af7e6f7cb0ee",
   "metadata": {},
   "outputs": [
    {
     "name": "stdin",
     "output_type": "stream",
     "text": [
      "Enter a number of list :  [20,30,40,4,70,80,198]\n",
      "Enter a number to be searched :  20\n"
     ]
    },
    {
     "name": "stdout",
     "output_type": "stream",
     "text": [
      "Number found at position :  1\n"
     ]
    }
   ],
   "source": [
    "# Linear Search\n",
    "\n",
    "List_A = eval(input(\"Enter a number of list : \"))\n",
    "s_num = int(input(\"Enter a number to be searched : \"))\n",
    "\n",
    "for i in range(len(List_A)):\n",
    "    if List_A[i] == s_num:\n",
    "        print(\"Number found at position : \", i+1)\n",
    "        "
   ]
  },
  {
   "cell_type": "code",
   "execution_count": null,
   "id": "4e8cbf6e-3321-4faa-86d2-6312da721dc4",
   "metadata": {},
   "outputs": [],
   "source": []
  },
  {
   "cell_type": "code",
   "execution_count": null,
   "id": "f7386d7c-bd5f-470f-808b-9cc17fd0c4f7",
   "metadata": {},
   "outputs": [],
   "source": [
    "#For multi occurence"
   ]
  },
  {
   "cell_type": "code",
   "execution_count": 51,
   "id": "fc8d5256-ffec-4b6b-a9b3-a49cfbdc7e30",
   "metadata": {},
   "outputs": [
    {
     "name": "stdin",
     "output_type": "stream",
     "text": [
      "Enter a number of list :  [20,30,40,4,70,80,198,20]\n",
      "Enter a number to be searched :  20\n"
     ]
    },
    {
     "name": "stdout",
     "output_type": "stream",
     "text": [
      "Number found at position :  1\n",
      "Number found at position :  8\n"
     ]
    }
   ],
   "source": [
    "List_A = eval(input(\"Enter a number of list : \"))\n",
    "s_num = int(input(\"Enter a number to be searched : \"))\n",
    "cnt = 0\n",
    "\n",
    "for i in range(len(List_A)):\n",
    "    if List_A[i] == s_num:\n",
    "        print(\"Number found at position : \", i+1)\n",
    "        cnt += 1\n",
    "        continue\n",
    "        \n",
    "# if cnt == 0:\n",
    "#     print(\"not found\")"
   ]
  },
  {
   "cell_type": "code",
   "execution_count": null,
   "id": "53e5d981-916e-489a-9952-2077ba731a33",
   "metadata": {},
   "outputs": [],
   "source": []
  },
  {
   "cell_type": "code",
   "execution_count": null,
   "id": "774780c5-fb39-4982-9d2f-da828f77fbc1",
   "metadata": {},
   "outputs": [],
   "source": []
  },
  {
   "cell_type": "code",
   "execution_count": 15,
   "id": "2926d34b-2925-4ee3-9005-b76d44210843",
   "metadata": {},
   "outputs": [
    {
     "name": "stdin",
     "output_type": "stream",
     "text": [
      "Enter a number of list :  12,12,12\n",
      "Enter a number to be searched :  12\n"
     ]
    },
    {
     "name": "stdout",
     "output_type": "stream",
     "text": [
      "<class 'tuple'>\n"
     ]
    }
   ],
   "source": [
    "# Linear Search => String\n",
    "\n",
    "List_A = eval(input(\"Enter a number of list : \"))\n",
    "s_num = input(\"Enter a number to be searched : \")\n",
    "\n",
    "for i in range(len(List_A)):\n",
    "    if List_A[i] == s_num:\n",
    "        print(\"Number found at position : \", i+1)\n",
    "        break\n",
    "\n",
    "print(type(List_A))"
   ]
  }
 ],
 "metadata": {
  "kernelspec": {
   "display_name": "Python 3 (ipykernel)",
   "language": "python",
   "name": "python3"
  },
  "language_info": {
   "codemirror_mode": {
    "name": "ipython",
    "version": 3
   },
   "file_extension": ".py",
   "mimetype": "text/x-python",
   "name": "python",
   "nbconvert_exporter": "python",
   "pygments_lexer": "ipython3",
   "version": "3.12.4"
  }
 },
 "nbformat": 4,
 "nbformat_minor": 5
}
