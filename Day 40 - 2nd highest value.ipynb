{
 "cells": [
  {
   "cell_type": "code",
   "execution_count": 3,
   "id": "76f11fd8-06e6-4fd4-a2b9-661ca7fc8425",
   "metadata": {},
   "outputs": [
    {
     "name": "stdout",
     "output_type": "stream",
     "text": [
      "780\n"
     ]
    }
   ],
   "source": [
    "#Highest and Second highest value\n",
    "\n",
    "A = [10,5,4,260,560,35,34,540,780]\n",
    "print(max(A))\n"
   ]
  },
  {
   "cell_type": "code",
   "execution_count": 11,
   "id": "f07152e4-4997-4c63-b209-9aab4734a2ce",
   "metadata": {},
   "outputs": [
    {
     "name": "stdout",
     "output_type": "stream",
     "text": [
      "highest :  780\n",
      "2nd highest :  560\n"
     ]
    }
   ],
   "source": [
    "#Highest and Second highest value\n",
    "\n",
    "A = [10,5,4,260,560,35,34,540,780]\n",
    "n = max(A)\n",
    "print(\"highest : \", n)\n",
    "while n in A:\n",
    "    A.remove(n)\n",
    "\n",
    "res = max(A)\n",
    "print(\"2nd highest : \", res)"
   ]
  },
  {
   "cell_type": "code",
   "execution_count": null,
   "id": "77afcdc9-da87-4747-aaef-ecc42ea8ee44",
   "metadata": {},
   "outputs": [],
   "source": []
  },
  {
   "cell_type": "code",
   "execution_count": null,
   "id": "d93b8f2a-fa39-426e-b4d9-b0e2e4b95d5c",
   "metadata": {},
   "outputs": [],
   "source": []
  },
  {
   "cell_type": "code",
   "execution_count": 27,
   "id": "bf4a300a-9d2b-46b9-8877-b86516086d75",
   "metadata": {},
   "outputs": [
    {
     "name": "stdout",
     "output_type": "stream",
     "text": [
      "1st highest: 780\n",
      "2nd highest: 560\n",
      "3rd highest: 540\n"
     ]
    }
   ],
   "source": [
    "# Using logic\n",
    "\n",
    "A = [10,5,4,260,560,35,34,540,780]\n",
    "m = A[0]\n",
    "s = 0\n",
    "t = 0\n",
    "for num in A:\n",
    "    if num>m:\n",
    "        m = num\n",
    "        \n",
    "for num in A:\n",
    "    if num != m and num > s:\n",
    "        s = num\n",
    "\n",
    "for num in A:\n",
    "    if num != m and num != s and num > t:\n",
    "        t = num\n",
    "    \n",
    "print('1st highest:', m)\n",
    "print('2nd highest:', s)\n",
    "print('3rd highest:', t)"
   ]
  }
 ],
 "metadata": {
  "kernelspec": {
   "display_name": "Python 3 (ipykernel)",
   "language": "python",
   "name": "python3"
  },
  "language_info": {
   "codemirror_mode": {
    "name": "ipython",
    "version": 3
   },
   "file_extension": ".py",
   "mimetype": "text/x-python",
   "name": "python",
   "nbconvert_exporter": "python",
   "pygments_lexer": "ipython3",
   "version": "3.12.4"
  }
 },
 "nbformat": 4,
 "nbformat_minor": 5
}
