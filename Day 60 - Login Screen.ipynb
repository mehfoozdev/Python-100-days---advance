{
 "cells": [
  {
   "cell_type": "code",
   "execution_count": 1,
   "id": "9708edf3-829a-43c4-b548-27e96b683724",
   "metadata": {},
   "outputs": [],
   "source": [
    "#Login Screen"
   ]
  },
  {
   "cell_type": "code",
   "execution_count": 7,
   "id": "832a5eb8-d8da-4ee9-b6bc-a2235c910f3b",
   "metadata": {},
   "outputs": [
    {
     "name": "stdin",
     "output_type": "stream",
     "text": [
      "Enter user name :  mehfoozdev\n",
      "Enter password :  Test1234\n"
     ]
    },
    {
     "name": "stdout",
     "output_type": "stream",
     "text": [
      "Logged in \n"
     ]
    }
   ],
   "source": [
    "username = \"mehfoozdev\"\n",
    "password = \"Test1234\"\n",
    "\n",
    "for k in range(3):\n",
    "    userid = input(\"Enter user name : \")\n",
    "    passw = input(\"Enter password : \")\n",
    "    \n",
    "    if (userid.lower() == username) and (passw == password):\n",
    "        print(\"Logged in \")\n",
    "        break\n",
    "    else:\n",
    "        print(\"access denied\")"
   ]
  },
  {
   "cell_type": "code",
   "execution_count": null,
   "id": "06aa4915-1683-4f28-bbc5-92dddfa1b4fb",
   "metadata": {},
   "outputs": [],
   "source": []
  }
 ],
 "metadata": {
  "kernelspec": {
   "display_name": "Python 3 (ipykernel)",
   "language": "python",
   "name": "python3"
  },
  "language_info": {
   "codemirror_mode": {
    "name": "ipython",
    "version": 3
   },
   "file_extension": ".py",
   "mimetype": "text/x-python",
   "name": "python",
   "nbconvert_exporter": "python",
   "pygments_lexer": "ipython3",
   "version": "3.12.4"
  }
 },
 "nbformat": 4,
 "nbformat_minor": 5
}
