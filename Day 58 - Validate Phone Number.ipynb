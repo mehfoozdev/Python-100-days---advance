{
 "cells": [
  {
   "cell_type": "code",
   "execution_count": 51,
   "id": "58b30c83-0a4d-4676-b13a-73c71d85f6b5",
   "metadata": {},
   "outputs": [
    {
     "name": "stdin",
     "output_type": "stream",
     "text": [
      "Enter phone number :  3362414909\n"
     ]
    },
    {
     "name": "stdout",
     "output_type": "stream",
     "text": [
      "prefix in networks :  336\n",
      "network :  ufone\n",
      "+92 3362414909 and network is : ufone\n"
     ]
    }
   ],
   "source": [
    "#validate phone number \n",
    "networks = {336 : \"ufone\", 340 : \"telenor\", 300:\"Jazz\"}\n",
    "def isValidPhone(phone):\n",
    "    if not phone.isdigit() or len(phone) != 10:\n",
    "        return False\n",
    "    else:\n",
    "        return True\n",
    "\n",
    "phone = input(\"Enter phone number : \")\n",
    "if isValidPhone(phone):\n",
    "    prefix = int(phone[:3])\n",
    "    if prefix in networks:\n",
    "        print(\"prefix in networks : \", prefix)\n",
    "        network = networks[prefix]\n",
    "        print(\"network : \", network)\n",
    "        print(f\"+92 {phone} and network is : {network}\")\n",
    "    else:\n",
    "        print(f\"+92 {phone} and network is not known\")\n",
    "\n",
    "else:\n",
    "    print(\"Not valid number :\")"
   ]
  },
  {
   "cell_type": "code",
   "execution_count": null,
   "id": "fe9138ce-8d19-45cc-a891-2815d92550de",
   "metadata": {},
   "outputs": [],
   "source": []
  }
 ],
 "metadata": {
  "kernelspec": {
   "display_name": "Python 3 (ipykernel)",
   "language": "python",
   "name": "python3"
  },
  "language_info": {
   "codemirror_mode": {
    "name": "ipython",
    "version": 3
   },
   "file_extension": ".py",
   "mimetype": "text/x-python",
   "name": "python",
   "nbconvert_exporter": "python",
   "pygments_lexer": "ipython3",
   "version": "3.12.4"
  }
 },
 "nbformat": 4,
 "nbformat_minor": 5
}
