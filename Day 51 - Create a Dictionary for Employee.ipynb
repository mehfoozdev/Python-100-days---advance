{
 "cells": [
  {
   "cell_type": "code",
   "execution_count": 1,
   "id": "bb406061-1bc3-4661-9523-c798489c080a",
   "metadata": {},
   "outputs": [],
   "source": [
    "#Create a Dictionary for Employees"
   ]
  },
  {
   "cell_type": "code",
   "execution_count": 21,
   "id": "7d386aac-49e8-4efe-86b3-aa4764435138",
   "metadata": {},
   "outputs": [
    {
     "name": "stdin",
     "output_type": "stream",
     "text": [
      "Enter a employee number to be saved :  3\n",
      "Enter employee name :  Mehfooz Ali\n",
      "Enter the salary :  85000\n",
      "Enter employee name :  Ali Hasnain\n",
      "Enter the salary :  225000\n",
      "Enter employee name :  Ayan Shabbir\n",
      "Enter the salary :  75000\n"
     ]
    },
    {
     "data": {
      "text/plain": [
       "\"List of Employees : {'Mehfooz Ali': 85000, 'Ali Hasnain': 225000, 'Ayan Shabbir': 75000}\""
      ]
     },
     "execution_count": 21,
     "metadata": {},
     "output_type": "execute_result"
    }
   ],
   "source": [
    "employee = {}\n",
    "n = int(input(\"Enter a employee number to be saved : \"))\n",
    "\n",
    "def create(employee, n):\n",
    "    for i in range(n):\n",
    "        ename = input(\"Enter employee name : \")\n",
    "        sal = int(input(\"Enter the salary : \"))\n",
    "        employee[ename] = sal   \n",
    "        \n",
    "    return f\"List of Employees : {employee}\"\n",
    "    \n",
    "create(employee, n)\n"
   ]
  },
  {
   "cell_type": "code",
   "execution_count": 27,
   "id": "0e9e62ea-22a9-4c03-a2d9-dbf5bcc8eb0b",
   "metadata": {},
   "outputs": [
    {
     "name": "stdin",
     "output_type": "stream",
     "text": [
      "Enter a employee number to be saved :  2\n",
      "Enter employee name :  mehfooz\n",
      "Enter the salary :  855000\n",
      "Enter employee name :  ayan\n",
      "Enter the salary :  45550\n"
     ]
    },
    {
     "data": {
      "text/plain": [
       "\"List of Employees : [{'name': 'mehfooz', 'salary': 855000}, {'name': 'ayan', 'salary': 45550}]\""
      ]
     },
     "execution_count": 27,
     "metadata": {},
     "output_type": "execute_result"
    }
   ],
   "source": [
    "employee = []\n",
    "n = int(input(\"Enter a employee number to be saved : \"))\n",
    "\n",
    "def create(employee, n):\n",
    "    for i in range(n):\n",
    "        ename = input(\"Enter employee name : \")\n",
    "        sal = int(input(\"Enter the salary : \"))\n",
    "        employee.append({\"name\": ename, \"salary\": sal})\n",
    "        \n",
    "    return f\"List of Employees : {employee}\"\n",
    "    \n",
    "create(employee, n)\n"
   ]
  },
  {
   "cell_type": "code",
   "execution_count": null,
   "id": "bf30cb2b-f85b-421e-be05-cc65107bf0b6",
   "metadata": {},
   "outputs": [],
   "source": []
  }
 ],
 "metadata": {
  "kernelspec": {
   "display_name": "Python 3 (ipykernel)",
   "language": "python",
   "name": "python3"
  },
  "language_info": {
   "codemirror_mode": {
    "name": "ipython",
    "version": 3
   },
   "file_extension": ".py",
   "mimetype": "text/x-python",
   "name": "python",
   "nbconvert_exporter": "python",
   "pygments_lexer": "ipython3",
   "version": "3.12.4"
  }
 },
 "nbformat": 4,
 "nbformat_minor": 5
}
