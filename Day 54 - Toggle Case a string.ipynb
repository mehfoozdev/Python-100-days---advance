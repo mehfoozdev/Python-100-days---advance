{
 "cells": [
  {
   "cell_type": "code",
   "execution_count": 2,
   "id": "2bf3d25d-7e71-40f0-8ce1-bdbc02174fd4",
   "metadata": {},
   "outputs": [],
   "source": [
    "# Toggle Case a string"
   ]
  },
  {
   "cell_type": "code",
   "execution_count": 4,
   "id": "23a40a66-da7f-486d-8a55-44c8c1dec6de",
   "metadata": {},
   "outputs": [
    {
     "name": "stdin",
     "output_type": "stream",
     "text": [
      "Enter a string  :  Mehfooz\n"
     ]
    },
    {
     "name": "stdout",
     "output_type": "stream",
     "text": [
      "Original String :  Mehfooz\n",
      "Final String :  mEHFOOZ\n"
     ]
    }
   ],
   "source": [
    "text = input(\"Enter a string  : \")\n",
    "res = text.swapcase()\n",
    "print(\"Original String : \", text)\n",
    "print(\"Final String : \", res)"
   ]
  },
  {
   "cell_type": "code",
   "execution_count": null,
   "id": "6fb27468-7798-49bc-9b84-4892abd25fa6",
   "metadata": {},
   "outputs": [],
   "source": []
  },
  {
   "cell_type": "code",
   "execution_count": 7,
   "id": "f260d096-2f57-4927-8af1-dd2eed1f56ca",
   "metadata": {},
   "outputs": [],
   "source": [
    "# 2nd Method"
   ]
  },
  {
   "cell_type": "code",
   "execution_count": 11,
   "id": "73096673-712e-4681-8628-fdff4414ecbb",
   "metadata": {},
   "outputs": [
    {
     "name": "stdin",
     "output_type": "stream",
     "text": [
      "Enter a string  :  Mehfooz Ali\n"
     ]
    },
    {
     "name": "stdout",
     "output_type": "stream",
     "text": [
      "Original String :  Mehfooz Ali\n",
      "Final String :  mEHFOOZ aLI\n"
     ]
    }
   ],
   "source": [
    "text = input(\"Enter a string  : \")\n",
    "res = \"\"\n",
    "\n",
    "for ch in text:\n",
    "    if ch.islower():\n",
    "        res += ch.upper()\n",
    "    elif ch.isupper():\n",
    "        res += ch.lower()\n",
    "    else:\n",
    "        res += ch\n",
    "        \n",
    "print(\"Original String : \", text)\n",
    "print(\"Final String : \", res)"
   ]
  },
  {
   "cell_type": "code",
   "execution_count": null,
   "id": "11071374-e727-4440-8fb9-78017f26a4f5",
   "metadata": {},
   "outputs": [],
   "source": []
  }
 ],
 "metadata": {
  "kernelspec": {
   "display_name": "Python 3 (ipykernel)",
   "language": "python",
   "name": "python3"
  },
  "language_info": {
   "codemirror_mode": {
    "name": "ipython",
    "version": 3
   },
   "file_extension": ".py",
   "mimetype": "text/x-python",
   "name": "python",
   "nbconvert_exporter": "python",
   "pygments_lexer": "ipython3",
   "version": "3.12.4"
  }
 },
 "nbformat": 4,
 "nbformat_minor": 5
}
