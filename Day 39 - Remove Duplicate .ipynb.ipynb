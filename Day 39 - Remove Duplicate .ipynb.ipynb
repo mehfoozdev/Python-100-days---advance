{
 "cells": [
  {
   "cell_type": "code",
   "execution_count": 19,
   "id": "3a1ee242-1744-4941-af68-96380672a367",
   "metadata": {},
   "outputs": [
    {
     "name": "stdout",
     "output_type": "stream",
     "text": [
      "Before :  [14, 15, 15, 30, 45, 66, 70, 55, 45, 30]\n",
      "After :  [14, 15, 66, 70, 55, 45, 30]\n"
     ]
    }
   ],
   "source": [
    "#remove duplicate from list.\n",
    "\n",
    "A = [14,15,15,30,45,66,70,55,45,30]\n",
    "print(\"Before : \", A)\n",
    "for num in A:\n",
    "    if A.count(num) > 1:\n",
    "        A.remove(num)\n",
    "\n",
    "print(\"After : \", A)\n"
   ]
  },
  {
   "cell_type": "code",
   "execution_count": 25,
   "id": "128ea549-4ec5-40f1-9b89-6639d4838107",
   "metadata": {},
   "outputs": [
    {
     "name": "stdout",
     "output_type": "stream",
     "text": [
      "Before :  [14, 15, 15, 15, 30, 45, 66, 70, 55, 15, 45, 30, 14, 14]\n",
      "After :  [15, 45, 66, 70, 55, 15, 45, 30, 14]\n"
     ]
    }
   ],
   "source": [
    "#remove duplicate from list.\n",
    "\n",
    "A = [14,15,15,15,30,45,66,70,55,15,45,30,14,14]\n",
    "print(\"Before : \", A)\n",
    "for num in A:\n",
    "    if A.count(num) > 1:\n",
    "        A.remove(num)\n",
    "\n",
    "print(\"After : \", A)\n"
   ]
  },
  {
   "cell_type": "code",
   "execution_count": null,
   "id": "2c43e50a-1201-4089-9ad9-c93854e60c6e",
   "metadata": {},
   "outputs": [],
   "source": []
  },
  {
   "cell_type": "code",
   "execution_count": 31,
   "id": "213eea37-332d-4e1d-8349-a0d87ca7b223",
   "metadata": {},
   "outputs": [
    {
     "name": "stdout",
     "output_type": "stream",
     "text": [
      "Before :  [14, 15, 15, 15, 30, 45, 66, 70, 55, 15, 45, 30, 14, 14]\n",
      "After :  [14, 15, 30, 45, 66, 70, 55]\n"
     ]
    }
   ],
   "source": [
    "#remove duplicate from list.\n",
    "\n",
    "A = [14,15,15,15,30,45,66,70,55,15,45,30,14,14]\n",
    "B = []\n",
    "\n",
    "print(\"Before : \", A)\n",
    "for num in A:\n",
    "    if num not in B:\n",
    "        B.append(num)\n",
    "\n",
    "print(\"After : \", B)\n"
   ]
  },
  {
   "cell_type": "code",
   "execution_count": null,
   "id": "79f3f6bb-5dea-4654-ba47-5175005bc1ff",
   "metadata": {},
   "outputs": [],
   "source": []
  },
  {
   "cell_type": "code",
   "execution_count": 33,
   "id": "3dfbc9da-630e-47cb-bdd4-b8642439118b",
   "metadata": {},
   "outputs": [
    {
     "name": "stdout",
     "output_type": "stream",
     "text": [
      "Before :  [14, 15, 15, 15, 30, 45, 66, 70, 55, 15, 45, 30, 14, 14]\n",
      "After :  [66, 70, 55, 15, 45, 30, 14]\n"
     ]
    }
   ],
   "source": [
    "#remove duplicate from list.\n",
    "\n",
    "A = [14,15,15,15,30,45,66,70,55,15,45,30,14,14]\n",
    "i = 0\n",
    "print(\"Before : \", A)\n",
    "\n",
    "while i<len(A):\n",
    "    if A.count(A[i])>1:\n",
    "        A.remove(A[i])\n",
    "    else:\n",
    "        i += 1\n",
    "        \n",
    "print(\"After : \", A)\n"
   ]
  }
 ],
 "metadata": {
  "kernelspec": {
   "display_name": "Python 3 (ipykernel)",
   "language": "python",
   "name": "python3"
  },
  "language_info": {
   "codemirror_mode": {
    "name": "ipython",
    "version": 3
   },
   "file_extension": ".py",
   "mimetype": "text/x-python",
   "name": "python",
   "nbconvert_exporter": "python",
   "pygments_lexer": "ipython3",
   "version": "3.12.4"
  }
 },
 "nbformat": 4,
 "nbformat_minor": 5
}
