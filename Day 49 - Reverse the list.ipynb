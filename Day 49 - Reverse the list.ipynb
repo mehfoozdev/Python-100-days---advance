{
 "cells": [
  {
   "cell_type": "code",
   "execution_count": 1,
   "id": "e33db211-7df2-443a-8caa-058734bdecf9",
   "metadata": {},
   "outputs": [],
   "source": [
    "#Rotate a List by in position"
   ]
  },
  {
   "cell_type": "code",
   "execution_count": 15,
   "id": "090bdc07-95f7-4b2b-a5be-15d3f166bd0a",
   "metadata": {},
   "outputs": [
    {
     "name": "stdin",
     "output_type": "stream",
     "text": [
      "enter a digit to rotate a list :  2\n"
     ]
    },
    {
     "name": "stdout",
     "output_type": "stream",
     "text": [
      "[8, 20, 15, 35, 60, 10, 5]\n"
     ]
    }
   ],
   "source": [
    "A = [10,5,8,20,15,35,60]\n",
    "n = int(input(\"enter a digit to rotate a list : \"))\n",
    "res = A[:n]\n",
    "res = A[n:] + res\n",
    "\n",
    "print(res)"
   ]
  },
  {
   "cell_type": "code",
   "execution_count": null,
   "id": "b7ca7a86-5c67-4e8c-a0a1-fbd09deeec27",
   "metadata": {},
   "outputs": [],
   "source": []
  }
 ],
 "metadata": {
  "kernelspec": {
   "display_name": "Python 3 (ipykernel)",
   "language": "python",
   "name": "python3"
  },
  "language_info": {
   "codemirror_mode": {
    "name": "ipython",
    "version": 3
   },
   "file_extension": ".py",
   "mimetype": "text/x-python",
   "name": "python",
   "nbconvert_exporter": "python",
   "pygments_lexer": "ipython3",
   "version": "3.12.4"
  }
 },
 "nbformat": 4,
 "nbformat_minor": 5
}
