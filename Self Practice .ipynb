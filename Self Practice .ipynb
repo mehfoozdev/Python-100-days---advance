{
 "cells": [
  {
   "cell_type": "code",
   "execution_count": 1,
   "id": "0a8be705-8a59-4e9f-9436-daf69859c931",
   "metadata": {},
   "outputs": [
    {
     "name": "stdin",
     "output_type": "stream",
     "text": [
      "Enter a string :  mehfooz ali\n"
     ]
    },
    {
     "name": "stdout",
     "output_type": "stream",
     "text": [
      "ali mehfooz\n"
     ]
    }
   ],
   "source": [
    "text = input(\"Enter a string : \")\n",
    "\n",
    "new_text = text.split()\n",
    "new_text = new_text[::-1]\n",
    "new_text = \" \".join(new_text)\n",
    "print(new_text)"
   ]
  },
  {
   "cell_type": "code",
   "execution_count": null,
   "id": "15abc41f-a705-4714-a78b-d392079de831",
   "metadata": {},
   "outputs": [],
   "source": []
  },
  {
   "cell_type": "code",
   "execution_count": 9,
   "id": "5c0ce844-510b-4876-9175-7ed5dc9fdd9d",
   "metadata": {},
   "outputs": [
    {
     "name": "stdout",
     "output_type": "stream",
     "text": [
      "[10, 30, 56, 45, 20, 30, 5, 35, 55, 89, 77]\n"
     ]
    }
   ],
   "source": [
    "A = [10,30,56,45,20,30]\n",
    "B = [5,10,56,35,55,89,77]\n",
    "C = A.copy()\n",
    "\n",
    "for a in B:\n",
    "    if a not in C:\n",
    "        C.append(a)\n",
    "\n",
    "print(C)"
   ]
  },
  {
   "cell_type": "code",
   "execution_count": 7,
   "id": "f9a4b051-2645-4ad4-8fdb-0b0d0fc829f8",
   "metadata": {},
   "outputs": [
    {
     "name": "stdout",
     "output_type": "stream",
     "text": [
      "[5, 35, 55, 89, 77]\n"
     ]
    }
   ],
   "source": [
    "A = [10,30,56,45,20,30]\n",
    "B = [5,10,56,35,55,89,77]\n",
    "C = []\n",
    "\n",
    "for a in B:\n",
    "    if a not in A:\n",
    "        C.append(a)\n",
    "\n",
    "print(C)"
   ]
  },
  {
   "cell_type": "code",
   "execution_count": null,
   "id": "f10027e7-1211-435a-a4e2-458c1c432d15",
   "metadata": {},
   "outputs": [],
   "source": []
  },
  {
   "cell_type": "code",
   "execution_count": null,
   "id": "eb589022-6f18-4664-a42e-b24f3d8d4b21",
   "metadata": {},
   "outputs": [],
   "source": []
  },
  {
   "cell_type": "code",
   "execution_count": 27,
   "id": "d0d3b7c9-8392-4fb8-85f2-26fc3d895759",
   "metadata": {},
   "outputs": [
    {
     "name": "stdout",
     "output_type": "stream",
     "text": [
      "[10, 30, 56, 45, 20, 5, 35, 55, 89, 77]\n"
     ]
    }
   ],
   "source": [
    "A = [10,30,56,45,20,30,30]\n",
    "B = [5,10,56,35,55,89,77]\n",
    "C = A.copy()\n",
    "C = list(dict.fromkeys(C))\n",
    "\n",
    "for a in B:\n",
    "    if a not in C:\n",
    "        C.append(a)\n",
    "\n",
    "print(C)"
   ]
  },
  {
   "cell_type": "code",
   "execution_count": null,
   "id": "f19a3295-ac98-45d6-9136-4cf4be8db953",
   "metadata": {},
   "outputs": [],
   "source": []
  },
  {
   "cell_type": "code",
   "execution_count": 35,
   "id": "75419c28-f83e-4c73-969d-1324b413d606",
   "metadata": {},
   "outputs": [
    {
     "name": "stdin",
     "output_type": "stream",
     "text": [
      "Enter a string :  mehfooz ali khan\n"
     ]
    },
    {
     "name": "stdout",
     "output_type": "stream",
     "text": [
      "Updated Text :  mehfooz/ali/khan\n"
     ]
    }
   ],
   "source": [
    "text = input(\"Enter a string : \")\n",
    "text = text.replace(\" \",\"/\")\n",
    "print(\"Updated Text : \", text)"
   ]
  },
  {
   "cell_type": "code",
   "execution_count": null,
   "id": "7b019570-fd3c-4658-a9b7-cfd5fdc9ed88",
   "metadata": {},
   "outputs": [],
   "source": []
  },
  {
   "cell_type": "code",
   "execution_count": null,
   "id": "6aba8615-1291-4b5f-af64-58d24c421715",
   "metadata": {},
   "outputs": [],
   "source": []
  },
  {
   "cell_type": "code",
   "execution_count": null,
   "id": "43fa2afd-1f9c-4c9f-843f-b35ef7af7d94",
   "metadata": {},
   "outputs": [],
   "source": []
  },
  {
   "cell_type": "code",
   "execution_count": 53,
   "id": "98647180-54e5-4f0d-a637-c24cf0289fab",
   "metadata": {},
   "outputs": [
    {
     "name": "stdout",
     "output_type": "stream",
     "text": [
      "30\n"
     ]
    }
   ],
   "source": [
    "suma = lambda a,b,c: a+b+c+10\n",
    "print(suma(5,5,10))"
   ]
  },
  {
   "cell_type": "code",
   "execution_count": null,
   "id": "656abfd9-2640-420b-9bf2-db778639ed23",
   "metadata": {},
   "outputs": [],
   "source": []
  },
  {
   "cell_type": "code",
   "execution_count": 71,
   "id": "3924acc4-ae98-42dd-9536-9f80a1179b28",
   "metadata": {},
   "outputs": [
    {
     "name": "stdout",
     "output_type": "stream",
     "text": [
      "4 9 16 25 36 "
     ]
    }
   ],
   "source": [
    "#List Comprehension\n",
    "A = [2,3,4,5,6]\n",
    "\n",
    "for a in A:\n",
    "    a = a**2\n",
    "    print(a, end=\" \")"
   ]
  },
  {
   "cell_type": "code",
   "execution_count": 79,
   "id": "4220f291-50f0-4c3b-9cf5-2802e2e44fee",
   "metadata": {},
   "outputs": [
    {
     "name": "stdout",
     "output_type": "stream",
     "text": [
      "[4, 9, 16, 25, 36]\n"
     ]
    }
   ],
   "source": [
    "#List Comprehension\n",
    "A = [2,3,4,5,6]\n",
    "\n",
    "lmbda_a = lambda a: [a**2 for a in A]\n",
    "print(lmbda_a(A))"
   ]
  },
  {
   "cell_type": "code",
   "execution_count": 87,
   "id": "ce0d286f-dc83-4020-82c4-eb322b5c5641",
   "metadata": {},
   "outputs": [
    {
     "name": "stdout",
     "output_type": "stream",
     "text": [
      "[4, 'old', 16, 'old', 36]\n"
     ]
    }
   ],
   "source": [
    "#List Comprehension\n",
    "A = [2,3,4,5,6]\n",
    "\n",
    "list_com = [a**2 if a%2==0 else \"old\" for a in A]\n",
    "print(list_com)"
   ]
  },
  {
   "cell_type": "code",
   "execution_count": null,
   "id": "a58aadec-1124-40db-b3ef-329b3e965922",
   "metadata": {},
   "outputs": [],
   "source": []
  },
  {
   "cell_type": "code",
   "execution_count": 95,
   "id": "7d50ab07-9cf1-4668-9e1d-01662ca233df",
   "metadata": {},
   "outputs": [
    {
     "name": "stdin",
     "output_type": "stream",
     "text": [
      "Enter a number :  10\n"
     ]
    },
    {
     "name": "stdout",
     "output_type": "stream",
     "text": [
      "\n",
      "* \n",
      "* * \n",
      "* * * \n",
      "* * * * \n",
      "* * * * * \n",
      "* * * * * * \n",
      "* * * * * * * \n",
      "* * * * * * * * \n",
      "* * * * * * * * * \n"
     ]
    }
   ],
   "source": [
    "num = int(input(\"Enter a number : \"))\n",
    "# leng = len(num)\n",
    "\n",
    "for i in range(0,num):\n",
    "    for j in range(1,i+1):\n",
    "        print(\"*\", end=\" \")\n",
    "    print()"
   ]
  },
  {
   "cell_type": "raw",
   "id": "4ddc8158-d3fa-465f-9922-c1bf5b943dae",
   "metadata": {},
   "source": [
    "LIST COMPREHENSION"
   ]
  },
  {
   "cell_type": "code",
   "execution_count": 99,
   "id": "10861f39-c2bb-4362-b39a-3dcb598a8158",
   "metadata": {},
   "outputs": [
    {
     "name": "stdout",
     "output_type": "stream",
     "text": [
      "['apple', 'banana', 'mango']\n"
     ]
    }
   ],
   "source": [
    "fruits = [\"apple\", \"banana\", \"cherry\", \"kiwi\", \"mango\"]\n",
    "new_list = []\n",
    "for f in fruits:\n",
    "    if \"a\" in f:\n",
    "        new_list.append(f)\n",
    "\n",
    "print(new_list)"
   ]
  },
  {
   "cell_type": "code",
   "execution_count": 113,
   "id": "ae14ab44-c5de-462b-8d69-f0ef8c586cea",
   "metadata": {},
   "outputs": [
    {
     "name": "stdout",
     "output_type": "stream",
     "text": [
      "['banana', 'mango']\n"
     ]
    }
   ],
   "source": [
    "fruits = [\"apple\", \"banana\", \"cherry\", \"kiwi\", \"mango\"]\n",
    "new_list = [x for x in fruits if \"an\" in x]\n",
    "\n",
    "print(new_list)"
   ]
  },
  {
   "cell_type": "code",
   "execution_count": 117,
   "id": "c27564fb-6130-47b1-b161-23be814697a5",
   "metadata": {},
   "outputs": [
    {
     "name": "stdout",
     "output_type": "stream",
     "text": [
      "['banana', 'cherry', 'kiwi', 'mango']\n"
     ]
    }
   ],
   "source": [
    "fruits = [\"apple\", \"banana\", \"cherry\", \"kiwi\", \"mango\"]\n",
    "new_list = [x for x in fruits if x != \"apple\"]\n",
    "\n",
    "print(new_list)"
   ]
  },
  {
   "cell_type": "code",
   "execution_count": 139,
   "id": "25ed97f9-7e62-434d-95c8-4cfaf272ca3a",
   "metadata": {},
   "outputs": [
    {
     "name": "stdout",
     "output_type": "stream",
     "text": [
      "[5, 6, 7, 8, 9]\n"
     ]
    }
   ],
   "source": [
    "nm = [x for x in range(1,10) if x>=5]\n",
    "print(nm)"
   ]
  },
  {
   "cell_type": "code",
   "execution_count": 153,
   "id": "847cc314-9a36-4556-a2ff-90024d03916c",
   "metadata": {},
   "outputs": [
    {
     "name": "stdout",
     "output_type": "stream",
     "text": [
      "['apple', 'orange', 'cherry', 'kiwi', 'mango']\n"
     ]
    }
   ],
   "source": [
    "fruits = [\"apple\", \"banana\", \"cherry\", \"kiwi\", \"mango\"]\n",
    "newlista = [x if x != \"banana\" else \"orange\" for x in fruits]\n",
    "print(newlista)"
   ]
  },
  {
   "cell_type": "code",
   "execution_count": 157,
   "id": "defaa4f5-c0b6-4580-af65-217d318d2964",
   "metadata": {},
   "outputs": [
    {
     "name": "stdout",
     "output_type": "stream",
     "text": [
      "['orange', 'banana', 'cherry', 'kiwi', 'mango']\n"
     ]
    }
   ],
   "source": [
    "fruits = [\"apple\", \"banana\", \"cherry\", \"kiwi\", \"mango\"]\n",
    "new_list = [x if x!=\"apple\" else \"orange\" for x in fruits]\n",
    "\n",
    "print(new_list)"
   ]
  },
  {
   "cell_type": "code",
   "execution_count": null,
   "id": "5cbf605e-c7dd-4039-b349-fbc7cb6f11fc",
   "metadata": {},
   "outputs": [],
   "source": []
  },
  {
   "cell_type": "code",
   "execution_count": null,
   "id": "744cc954-ca36-409c-b12d-32d806900590",
   "metadata": {},
   "outputs": [],
   "source": []
  },
  {
   "cell_type": "code",
   "execution_count": 159,
   "id": "e1ff14d9-24bf-418c-a631-13ee657941fd",
   "metadata": {},
   "outputs": [],
   "source": [
    "#Sorting"
   ]
  },
  {
   "cell_type": "code",
   "execution_count": 161,
   "id": "a9bcfc97-782b-4ee7-85d8-3304b40e1af0",
   "metadata": {},
   "outputs": [
    {
     "name": "stdout",
     "output_type": "stream",
     "text": [
      "['banana', 'kiwi', 'mango', 'orange', 'pineapple']\n"
     ]
    }
   ],
   "source": [
    "thislist = [\"orange\", \"mango\", \"kiwi\", \"pineapple\", \"banana\"]\n",
    "thislist.sort()\n",
    "print(thislist)"
   ]
  },
  {
   "cell_type": "code",
   "execution_count": 163,
   "id": "13c0d6f9-1a3b-43fb-bf4a-bfb09b07f14f",
   "metadata": {},
   "outputs": [
    {
     "name": "stdout",
     "output_type": "stream",
     "text": [
      "['pineapple', 'orange', 'mango', 'kiwi', 'banana']\n"
     ]
    }
   ],
   "source": [
    "thislist = [\"orange\", \"mango\", \"kiwi\", \"pineapple\", \"banana\"]\n",
    "thislist.sort(reverse = True)\n",
    "print(thislist)"
   ]
  },
  {
   "cell_type": "code",
   "execution_count": 165,
   "id": "8785cd49-29c2-47f1-bf2e-576ed06bbdb4",
   "metadata": {},
   "outputs": [
    {
     "name": "stdout",
     "output_type": "stream",
     "text": [
      "['banana', 'kiwi', 'mango', 'orange', 'pineapple']\n"
     ]
    }
   ],
   "source": [
    "thislist = [\"orange\", \"mango\", \"kiwi\", \"pineapple\", \"banana\"]\n",
    "thislist.sort(reverse = False)\n",
    "print(thislist)"
   ]
  },
  {
   "cell_type": "code",
   "execution_count": 173,
   "id": "6c0ecd16-8f7e-4938-8081-ec7b9c08237c",
   "metadata": {},
   "outputs": [
    {
     "name": "stdout",
     "output_type": "stream",
     "text": [
      "['banana', 'cherry', 'Kiwi', 'Orange']\n"
     ]
    }
   ],
   "source": [
    "# Example\n",
    "# Perform a case-insensitive sort of the list:\n",
    "\n",
    "thislist = [\"banana\", \"Orange\", \"Kiwi\", \"cherry\"]\n",
    "thislist.sort(key = str.lower)\n",
    "print(thislist)"
   ]
  },
  {
   "cell_type": "code",
   "execution_count": 175,
   "id": "92bca1d2-c025-4673-931b-8ba514023924",
   "metadata": {},
   "outputs": [
    {
     "name": "stdout",
     "output_type": "stream",
     "text": [
      "['Apple', 'banana', 'cherry', 'Kiwi', 'Orange']\n"
     ]
    }
   ],
   "source": [
    "thislist = [\"banana\", \"Orange\", \"Apple\", \"Kiwi\", \"cherry\"]\n",
    "thislist.sort(key = str.lower)\n",
    "print(thislist)"
   ]
  },
  {
   "cell_type": "code",
   "execution_count": null,
   "id": "4d9baea6-6b23-46d2-84b0-5a035513c7a0",
   "metadata": {},
   "outputs": [],
   "source": []
  },
  {
   "cell_type": "code",
   "execution_count": null,
   "id": "c91c5c3d-b69c-42d2-8241-af7c7aedaaa0",
   "metadata": {},
   "outputs": [],
   "source": []
  },
  {
   "cell_type": "code",
   "execution_count": 16,
   "id": "8e65e904-3f5f-45ee-b378-98af54f39f35",
   "metadata": {},
   "outputs": [
    {
     "name": "stdout",
     "output_type": "stream",
     "text": [
      "Intersection :  [10, 56]\n",
      "Union :  [10, 30, 56, 45, 20, 30, 5, 35, 55, 89, 77]\n"
     ]
    }
   ],
   "source": [
    "A = [10,30,56,45,20,30]\n",
    "B = [5,10,56,35,55,89,77]\n",
    "C = []\n",
    "D = A.copy()\n",
    "\n",
    "for a in B:\n",
    "    if a in A:\n",
    "        C.append(a)\n",
    "    elif a not in D:\n",
    "        D.append(a)\n",
    "\n",
    "print(\"Intersection : \" ,C)\n",
    "print(\"Union : \" ,D)\n",
    "\n"
   ]
  },
  {
   "cell_type": "code",
   "execution_count": null,
   "id": "9ad0f53d-ace0-4de2-9992-68a8c4f3f7e8",
   "metadata": {},
   "outputs": [],
   "source": []
  }
 ],
 "metadata": {
  "kernelspec": {
   "display_name": "Python 3 (ipykernel)",
   "language": "python",
   "name": "python3"
  },
  "language_info": {
   "codemirror_mode": {
    "name": "ipython",
    "version": 3
   },
   "file_extension": ".py",
   "mimetype": "text/x-python",
   "name": "python",
   "nbconvert_exporter": "python",
   "pygments_lexer": "ipython3",
   "version": "3.12.4"
  }
 },
 "nbformat": 4,
 "nbformat_minor": 5
}
