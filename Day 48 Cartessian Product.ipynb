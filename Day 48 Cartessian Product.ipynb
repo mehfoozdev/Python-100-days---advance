{
 "cells": [
  {
   "cell_type": "code",
   "execution_count": 1,
   "id": "1d9409ca-08a7-4e81-810a-03d3740a06e8",
   "metadata": {},
   "outputs": [],
   "source": [
    "#Cartessian Product"
   ]
  },
  {
   "cell_type": "code",
   "execution_count": 7,
   "id": "8f619e99-1571-47b3-b822-c0309c85ed41",
   "metadata": {},
   "outputs": [
    {
     "name": "stdout",
     "output_type": "stream",
     "text": [
      "Cartisian Product is :  [(3, 10), (3, 12), (5, 10), (5, 12), (8, 10), (8, 12)]\n"
     ]
    }
   ],
   "source": [
    "A = [3,5,8]\n",
    "B = [10,12]\n",
    "res = []\n",
    "\n",
    "for n1 in A:\n",
    "    for n2 in B:\n",
    "        res.append((n1,n2))\n",
    "\n",
    "print(\"Cartisian Product is : \",res)"
   ]
  },
  {
   "cell_type": "code",
   "execution_count": null,
   "id": "050ddaa1-7358-40fb-a095-e8638542bae3",
   "metadata": {},
   "outputs": [],
   "source": []
  }
 ],
 "metadata": {
  "kernelspec": {
   "display_name": "Python 3 (ipykernel)",
   "language": "python",
   "name": "python3"
  },
  "language_info": {
   "codemirror_mode": {
    "name": "ipython",
    "version": 3
   },
   "file_extension": ".py",
   "mimetype": "text/x-python",
   "name": "python",
   "nbconvert_exporter": "python",
   "pygments_lexer": "ipython3",
   "version": "3.12.4"
  }
 },
 "nbformat": 4,
 "nbformat_minor": 5
}
