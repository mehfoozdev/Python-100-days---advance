{
 "cells": [
  {
   "cell_type": "code",
   "execution_count": 56,
   "id": "927a781a-1faf-47b7-bcf7-6a347a939d9d",
   "metadata": {},
   "outputs": [
    {
     "name": "stdin",
     "output_type": "stream",
     "text": [
      "Enter text :  i am mehfooz ali\n"
     ]
    },
    {
     "name": "stdout",
     "output_type": "stream",
     "text": [
      "Reversed text :  ali mehfooz am i\n"
     ]
    }
   ],
   "source": [
    "text = input(\"Enter text : \")\n",
    "\n",
    "reverse_text = text.split()\n",
    "reverse_text = reverse_text[::-1]\n",
    "reverse_text = \" \".join(reverse_text)\n",
    "\n",
    "print(\"Reversed text : \", reverse_text)"
   ]
  },
  {
   "cell_type": "code",
   "execution_count": null,
   "id": "9ee23f8c-6fd4-4a65-b42a-588463911344",
   "metadata": {},
   "outputs": [],
   "source": []
  },
  {
   "cell_type": "code",
   "execution_count": 60,
   "id": "c401579a-336d-4ad7-bf7a-5b52c1ba4d6b",
   "metadata": {},
   "outputs": [
    {
     "name": "stdin",
     "output_type": "stream",
     "text": [
      "Enter text :  i am mehfooz ali\n"
     ]
    },
    {
     "name": "stdout",
     "output_type": "stream",
     "text": [
      "Reversed text :  ali mehfooz am i \n"
     ]
    }
   ],
   "source": [
    "#other way\n",
    "text = input(\"Enter text : \")\n",
    "\n",
    "reverse_text = text.split()\n",
    "reverse_text = reverse_text[::-1]\n",
    "result = \"\"\n",
    "\n",
    "for t in reverse_text:\n",
    "    result += t + \" \"\n",
    "    \n",
    "print(\"Reversed text : \", result)"
   ]
  },
  {
   "cell_type": "code",
   "execution_count": null,
   "id": "6ddbf42f-4bca-4a90-8620-d43061832936",
   "metadata": {},
   "outputs": [],
   "source": []
  }
 ],
 "metadata": {
  "kernelspec": {
   "display_name": "Python 3 (ipykernel)",
   "language": "python",
   "name": "python3"
  },
  "language_info": {
   "codemirror_mode": {
    "name": "ipython",
    "version": 3
   },
   "file_extension": ".py",
   "mimetype": "text/x-python",
   "name": "python",
   "nbconvert_exporter": "python",
   "pygments_lexer": "ipython3",
   "version": "3.12.4"
  }
 },
 "nbformat": 4,
 "nbformat_minor": 5
}
