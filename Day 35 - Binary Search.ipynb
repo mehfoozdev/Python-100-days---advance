{
 "cells": [
  {
   "cell_type": "code",
   "execution_count": 20,
   "id": "756c19dd-403e-4e09-bc80-27853eb1a720",
   "metadata": {},
   "outputs": [
    {
     "name": "stdin",
     "output_type": "stream",
     "text": [
      "Enter the number to be searched :  88\n"
     ]
    },
    {
     "name": "stdout",
     "output_type": "stream",
     "text": [
      "Found at position :  8\n"
     ]
    }
   ],
   "source": [
    "#Binary Search => Time Complexity (OlogN)\n",
    "\n",
    "A = [10,23,28,32,37,59,77,88]\n",
    "num = int(input(\"Enter the number to be searched : \" ))\n",
    "\n",
    "beg=0\n",
    "end = len(A)-1\n",
    "\n",
    "while beg <= end:\n",
    "    mid = (beg+end) // 2\n",
    "    if A[mid] == num:\n",
    "        print(\"Found at position : \", mid+1)\n",
    "        break\n",
    "    elif num > A[mid]:\n",
    "        beg = mid+1\n",
    "    elif num < A[mid]:\n",
    "        end = mid - 1\n",
    "else:\n",
    "    print(\"Not Found\")\n"
   ]
  },
  {
   "cell_type": "code",
   "execution_count": null,
   "id": "066a9b0b-b7fc-48ed-8068-88a744b78e7d",
   "metadata": {},
   "outputs": [],
   "source": []
  },
  {
   "cell_type": "code",
   "execution_count": null,
   "id": "ae1425ae-bf44-441d-8b54-6f28662347b0",
   "metadata": {},
   "outputs": [],
   "source": []
  },
  {
   "cell_type": "code",
   "execution_count": null,
   "id": "5c863f94-05fd-4ff1-b6f4-988a530aafaa",
   "metadata": {},
   "outputs": [],
   "source": []
  },
  {
   "cell_type": "code",
   "execution_count": null,
   "id": "e97031d1-221f-42e3-9f11-57ac0184019f",
   "metadata": {},
   "outputs": [],
   "source": []
  },
  {
   "cell_type": "code",
   "execution_count": null,
   "id": "04cab230-01e8-4c8a-afac-29fa9ff36eff",
   "metadata": {},
   "outputs": [],
   "source": []
  },
  {
   "cell_type": "code",
   "execution_count": null,
   "id": "190b09a3-2a95-4a70-ab22-cc6b40b2fa18",
   "metadata": {},
   "outputs": [],
   "source": []
  },
  {
   "cell_type": "code",
   "execution_count": null,
   "id": "c9c72d64-dd62-42c8-8bd3-570a8d11ada9",
   "metadata": {},
   "outputs": [],
   "source": []
  },
  {
   "cell_type": "code",
   "execution_count": null,
   "id": "584ea36a-e13c-4ede-87b2-7e0ee85a0654",
   "metadata": {},
   "outputs": [],
   "source": []
  },
  {
   "cell_type": "code",
   "execution_count": null,
   "id": "4afec548-ff08-40e1-8fbd-73868392c55b",
   "metadata": {},
   "outputs": [],
   "source": []
  },
  {
   "cell_type": "code",
   "execution_count": null,
   "id": "dcd2581d-890a-4c73-be71-2e6426b6ad75",
   "metadata": {},
   "outputs": [],
   "source": []
  },
  {
   "cell_type": "code",
   "execution_count": 16,
   "id": "d0292521-1f7e-4aae-abbf-7f52a7c311f0",
   "metadata": {},
   "outputs": [
    {
     "name": "stdin",
     "output_type": "stream",
     "text": [
      "Enter a searching number :  120\n"
     ]
    },
    {
     "name": "stdout",
     "output_type": "stream",
     "text": [
      "Found at position :  11\n"
     ]
    }
   ],
   "source": [
    "# Practice for binary search\n",
    "LA = [10,25,30,35,40,50,55,60,65,70,120,150]\n",
    "num = int(input(\"Enter a searching number : \"))\n",
    "\n",
    "beg = 0 \n",
    "end = len(LA)-1\n",
    "\n",
    "while beg<=end:\n",
    "    mid = (beg+end) // 2\n",
    "    if LA[mid]==num:\n",
    "        print(\"Found at position : \", mid+1)\n",
    "        break\n",
    "    elif LA[mid] < num:\n",
    "        beg = mid + 1\n",
    "    elif LA[mid] > num:\n",
    "        end = mid-1\n",
    "else:\n",
    "    print(\"Not Found\")"
   ]
  },
  {
   "cell_type": "code",
   "execution_count": null,
   "id": "6fec5149-6ced-44a7-a81b-63fba6ad7a48",
   "metadata": {},
   "outputs": [],
   "source": []
  },
  {
   "cell_type": "code",
   "execution_count": 1,
   "id": "42eef322-bcd4-4608-b1e6-8251e258ae48",
   "metadata": {},
   "outputs": [
    {
     "name": "stdin",
     "output_type": "stream",
     "text": [
      "Enter a searching number :  \n"
     ]
    },
    {
     "ename": "ValueError",
     "evalue": "invalid literal for int() with base 10: ''",
     "output_type": "error",
     "traceback": [
      "\u001b[0;31m---------------------------------------------------------------------------\u001b[0m",
      "\u001b[0;31mValueError\u001b[0m                                Traceback (most recent call last)",
      "Cell \u001b[0;32mIn[1], line 2\u001b[0m\n\u001b[1;32m      1\u001b[0m LA \u001b[38;5;241m=\u001b[39m [\u001b[38;5;241m10\u001b[39m,\u001b[38;5;241m25\u001b[39m,\u001b[38;5;241m30\u001b[39m,\u001b[38;5;241m35\u001b[39m,\u001b[38;5;241m40\u001b[39m,\u001b[38;5;241m50\u001b[39m,\u001b[38;5;241m55\u001b[39m,\u001b[38;5;241m60\u001b[39m,\u001b[38;5;241m65\u001b[39m,\u001b[38;5;241m70\u001b[39m,\u001b[38;5;241m120\u001b[39m,\u001b[38;5;241m150\u001b[39m]\n\u001b[0;32m----> 2\u001b[0m num \u001b[38;5;241m=\u001b[39m \u001b[38;5;28mint\u001b[39m(\u001b[38;5;28minput\u001b[39m(\u001b[38;5;124m\"\u001b[39m\u001b[38;5;124mEnter a searching number : \u001b[39m\u001b[38;5;124m\"\u001b[39m))\n\u001b[1;32m      4\u001b[0m beg \u001b[38;5;241m=\u001b[39m \u001b[38;5;241m0\u001b[39m \n\u001b[1;32m      5\u001b[0m end \u001b[38;5;241m=\u001b[39m \u001b[38;5;28mlen\u001b[39m(LA)\u001b[38;5;241m-\u001b[39m\u001b[38;5;241m1\u001b[39m\n",
      "\u001b[0;31mValueError\u001b[0m: invalid literal for int() with base 10: ''"
     ]
    }
   ],
   "source": [
    "LA = [10,25,30,35,40,50,55,60,65,70,120,150]\n",
    "num = int(input(\"Enter a searching number : \"))\n",
    "\n",
    "beg = 0 \n",
    "end = len(LA)-1\n",
    "\n",
    "for i in range(len(LA)):\n",
    "    mid = (beg+end) // 2\n",
    "    if LA[mid] == num:\n",
    "        print(\"Found at position : \", mid+1)\n",
    "        break\n",
    "    elif LA[mid] < num:\n",
    "        beg = mid+1\n",
    "    elif LA[mid] > num:\n",
    "        end = mid-1\n",
    "else:\n",
    "    print(\"Not Found\")\n"
   ]
  },
  {
   "cell_type": "code",
   "execution_count": null,
   "id": "3652e537-71ea-464a-8547-a14f4140b108",
   "metadata": {},
   "outputs": [],
   "source": []
  },
  {
   "cell_type": "code",
   "execution_count": null,
   "id": "ec22fd85-9986-4d75-b504-fca4b47c03b8",
   "metadata": {},
   "outputs": [],
   "source": []
  },
  {
   "cell_type": "code",
   "execution_count": null,
   "id": "34529a35-d0e6-427f-a910-9f66fb7ba4a4",
   "metadata": {},
   "outputs": [],
   "source": []
  },
  {
   "cell_type": "code",
   "execution_count": null,
   "id": "186b4a16-1dc8-4d44-b76d-db8f5a8db707",
   "metadata": {},
   "outputs": [],
   "source": []
  },
  {
   "cell_type": "code",
   "execution_count": 49,
   "id": "a771e99f-ddb7-43bf-b829-42e0cdab7032",
   "metadata": {},
   "outputs": [
    {
     "data": {
      "text/plain": [
       "'not found'"
      ]
     },
     "execution_count": 49,
     "metadata": {},
     "output_type": "execute_result"
    }
   ],
   "source": [
    "AL = [10,25,30,35,40,50,55,60,65,70,120,150]\n",
    "\n",
    "def binarySearch(AL, num):\n",
    "    beg = 0\n",
    "    end = len(AL)-1\n",
    "    while beg<=end:\n",
    "        mid = (beg + end) // 2\n",
    "        if AL[mid] == num:\n",
    "            return f'Found at position : {mid+1}'\n",
    "        elif AL[mid] < num:\n",
    "            beg = mid+1\n",
    "        elif AL[mid] > num:\n",
    "            end = mid-1\n",
    "            \n",
    "    return 'not found'\n",
    "\n",
    "find_number_in_list = binarySearch(AL, 144)\n",
    "find_number_in_list\n",
    "    "
   ]
  }
 ],
 "metadata": {
  "kernelspec": {
   "display_name": "Python 3 (ipykernel)",
   "language": "python",
   "name": "python3"
  },
  "language_info": {
   "codemirror_mode": {
    "name": "ipython",
    "version": 3
   },
   "file_extension": ".py",
   "mimetype": "text/x-python",
   "name": "python",
   "nbconvert_exporter": "python",
   "pygments_lexer": "ipython3",
   "version": "3.12.4"
  }
 },
 "nbformat": 4,
 "nbformat_minor": 5
}
