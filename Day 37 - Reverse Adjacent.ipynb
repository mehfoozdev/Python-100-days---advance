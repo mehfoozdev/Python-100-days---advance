{
 "cells": [
  {
   "cell_type": "code",
   "execution_count": 37,
   "id": "b898631f-9c33-4e6c-b079-fc1cca03fabd",
   "metadata": {},
   "outputs": [
    {
     "name": "stdout",
     "output_type": "stream",
     "text": [
      "[18, 20, 46, 30, 34, 11]\n"
     ]
    }
   ],
   "source": [
    "# Solving with Logic behind it.\n",
    "\n",
    "A = [20,18,30,46,11,34]\n",
    "\n",
    "for i in range(0, len(A), 2):\n",
    "    A[i],A[i+1] = A[i+1],A[i]\n",
    "\n",
    "print(A)"
   ]
  },
  {
   "cell_type": "code",
   "execution_count": null,
   "id": "31c0e4bd-74a4-4797-9549-a45fcf908ee6",
   "metadata": {},
   "outputs": [],
   "source": []
  },
  {
   "cell_type": "code",
   "execution_count": 39,
   "id": "f2584da7-84b7-469a-a8fa-ed892897181e",
   "metadata": {},
   "outputs": [
    {
     "name": "stdout",
     "output_type": "stream",
     "text": [
      "[18, 20, 46, 30, 11]\n"
     ]
    }
   ],
   "source": [
    "# Solving with Logic behind it.\n",
    "\n",
    "A = [20,18,30,46,11]\n",
    "\n",
    "for i in range(0, len(A), 2):\n",
    "    if i+1 < len(A):\n",
    "        A[i],A[i+1] = A[i+1],A[i]\n",
    "\n",
    "print(A)"
   ]
  }
 ],
 "metadata": {
  "kernelspec": {
   "display_name": "Python 3 (ipykernel)",
   "language": "python",
   "name": "python3"
  },
  "language_info": {
   "codemirror_mode": {
    "name": "ipython",
    "version": 3
   },
   "file_extension": ".py",
   "mimetype": "text/x-python",
   "name": "python",
   "nbconvert_exporter": "python",
   "pygments_lexer": "ipython3",
   "version": "3.12.4"
  }
 },
 "nbformat": 4,
 "nbformat_minor": 5
}
