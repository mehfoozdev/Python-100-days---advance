{
 "cells": [
  {
   "cell_type": "code",
   "execution_count": 3,
   "id": "d2112c3c-e625-414f-b1c5-b97d1a54e94a",
   "metadata": {},
   "outputs": [
    {
     "name": "stdout",
     "output_type": "stream",
     "text": [
      "List :  [5, 8, 12, 14, 35, 43, 45, 54, 89]\n"
     ]
    }
   ],
   "source": [
    "#It will insert the sorted values, start from position 01 not from 0 means index 1 and will compare to index 0..\n",
    "#means => A[i]=0, A[i]=1\n",
    "\n",
    "A =  [14,45,8,5,35,12,54,89,43]\n",
    "n = len(A)\n",
    "\n",
    "for i in range(1, n):\n",
    "    num = A[i]\n",
    "    j = i-1\n",
    "    while j>=0 and num < A[j]:\n",
    "        A[j+1] = A[j]\n",
    "        j -= 1\n",
    "        \n",
    "    A[j+1] = num\n",
    "\n",
    "print('List : ', A)\n"
   ]
  }
 ],
 "metadata": {
  "kernelspec": {
   "display_name": "Python 3 (ipykernel)",
   "language": "python",
   "name": "python3"
  },
  "language_info": {
   "codemirror_mode": {
    "name": "ipython",
    "version": 3
   },
   "file_extension": ".py",
   "mimetype": "text/x-python",
   "name": "python",
   "nbconvert_exporter": "python",
   "pygments_lexer": "ipython3",
   "version": "3.12.4"
  }
 },
 "nbformat": 4,
 "nbformat_minor": 5
}
