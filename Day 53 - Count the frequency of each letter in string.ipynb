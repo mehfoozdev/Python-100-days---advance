{
 "cells": [
  {
   "cell_type": "code",
   "execution_count": 1,
   "id": "e5e65d7b-b295-4f66-a0f8-3fd2d6267035",
   "metadata": {},
   "outputs": [],
   "source": [
    "# Count the frequency of each letter in string"
   ]
  },
  {
   "cell_type": "code",
   "execution_count": 42,
   "id": "4039d9c6-a453-4369-9cfa-bdaf3e9470be",
   "metadata": {},
   "outputs": [
    {
     "name": "stdin",
     "output_type": "stream",
     "text": [
      "Enter a string :  naila fayaz\n"
     ]
    },
    {
     "name": "stdout",
     "output_type": "stream",
     "text": [
      "Frequency of each ch :  {'n': 1, 'a': 4, 'i': 1, 'l': 1, ' ': 1, 'f': 1, 'y': 1, 'z': 1}\n"
     ]
    }
   ],
   "source": [
    "text = input(\"Enter a string : \" )\n",
    "res = {}\n",
    "\n",
    "for ch in text:\n",
    "    if ch not in res:\n",
    "        res[ch] = 1\n",
    "    else:\n",
    "        res[ch] += 1\n",
    "    \n",
    "print(\"Frequency of each ch : \", res)"
   ]
  },
  {
   "cell_type": "code",
   "execution_count": null,
   "id": "afaf71a3-7a3b-4ffa-a2e2-435725f36446",
   "metadata": {},
   "outputs": [],
   "source": []
  },
  {
   "cell_type": "code",
   "execution_count": 46,
   "id": "6a1fbc21-24be-414e-a20c-84dc7ddcf15a",
   "metadata": {},
   "outputs": [
    {
     "name": "stdin",
     "output_type": "stream",
     "text": [
      "Enter a string :  mehfooz\n"
     ]
    },
    {
     "name": "stdout",
     "output_type": "stream",
     "text": [
      "Frequency of each ch :  {'m': 1, 'e': 1, 'h': 1, 'f': 1, 'o': 2, 'z': 1}\n"
     ]
    }
   ],
   "source": [
    "text = input(\"Enter a string : \" )\n",
    "count = 0\n",
    "res = {}\n",
    "\n",
    "for ch in text:\n",
    "    if ch not in res:\n",
    "        count = 1\n",
    "        res[ch] = count\n",
    "    else:\n",
    "        count += 1\n",
    "        res[ch] = count\n",
    "    \n",
    "print(\"Frequency of each ch : \", res)"
   ]
  },
  {
   "cell_type": "code",
   "execution_count": null,
   "id": "e9d3454b-f6e6-44d2-879d-2adeca505691",
   "metadata": {},
   "outputs": [],
   "source": []
  }
 ],
 "metadata": {
  "kernelspec": {
   "display_name": "Python 3 (ipykernel)",
   "language": "python",
   "name": "python3"
  },
  "language_info": {
   "codemirror_mode": {
    "name": "ipython",
    "version": 3
   },
   "file_extension": ".py",
   "mimetype": "text/x-python",
   "name": "python",
   "nbconvert_exporter": "python",
   "pygments_lexer": "ipython3",
   "version": "3.12.4"
  }
 },
 "nbformat": 4,
 "nbformat_minor": 5
}
