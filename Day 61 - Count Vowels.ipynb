{
 "cells": [
  {
   "cell_type": "code",
   "execution_count": 19,
   "id": "77501fc1-9ef9-4a41-9b0c-1dad35597a16",
   "metadata": {},
   "outputs": [
    {
     "name": "stdin",
     "output_type": "stream",
     "text": [
      "Enter a string  :  MEHFOOZ mehfooz\n"
     ]
    },
    {
     "name": "stdout",
     "output_type": "stream",
     "text": [
      "Text : MEHFOOZ mehfooz and vowel count : 6\n"
     ]
    }
   ],
   "source": [
    "text = input(\"Enter a string  : \")\n",
    "vowels = ['a','e','i','o','u']\n",
    "\n",
    "vowel_count = 0\n",
    "\n",
    "for v in text.lower():\n",
    "    if v in vowels:\n",
    "        vowel_count += 1\n",
    "\n",
    "print(f\"Text : {text} and vowel count : {vowel_count}\")"
   ]
  },
  {
   "cell_type": "code",
   "execution_count": null,
   "id": "1bfb3373-95c6-4380-9690-9f12d41d4dbc",
   "metadata": {},
   "outputs": [],
   "source": [
    "\n"
   ]
  }
 ],
 "metadata": {
  "kernelspec": {
   "display_name": "Python 3 (ipykernel)",
   "language": "python",
   "name": "python3"
  },
  "language_info": {
   "codemirror_mode": {
    "name": "ipython",
    "version": 3
   },
   "file_extension": ".py",
   "mimetype": "text/x-python",
   "name": "python",
   "nbconvert_exporter": "python",
   "pygments_lexer": "ipython3",
   "version": "3.12.4"
  }
 },
 "nbformat": 4,
 "nbformat_minor": 5
}
