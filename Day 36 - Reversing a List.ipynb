{
 "cells": [
  {
   "cell_type": "code",
   "execution_count": 1,
   "id": "faa914eb-0acd-41f4-baf5-291f71b1f1be",
   "metadata": {},
   "outputs": [
    {
     "name": "stdout",
     "output_type": "stream",
     "text": [
      "[60, 11, 18, 15, 30, 20, 10]\n"
     ]
    }
   ],
   "source": [
    "#List Slicing\n",
    "A = [10,20,30,15,18,11,60]\n",
    "print(A[::-1])"
   ]
  },
  {
   "cell_type": "code",
   "execution_count": 19,
   "id": "1d1dd408-d767-43ce-aa0b-638bc63cbb74",
   "metadata": {},
   "outputs": [
    {
     "name": "stdout",
     "output_type": "stream",
     "text": [
      "[13, 11, 46, 30, 18, 20]\n"
     ]
    }
   ],
   "source": [
    "# Solving with Logic behind it.\n",
    "\n",
    "A = [20,18,30,46,11,13]\n",
    "n = len(A)\n",
    "\n",
    "for i in range(n//2):\n",
    "    A[i],A[n-1-i] = A[n-1-i], A[i]\n",
    "\n",
    "print(A)"
   ]
  },
  {
   "cell_type": "code",
   "execution_count": null,
   "id": "1074885f-584c-45aa-81e5-568b65e87694",
   "metadata": {},
   "outputs": [],
   "source": []
  },
  {
   "cell_type": "code",
   "execution_count": 21,
   "id": "1cc46dc8-e087-4d3b-a9c0-e9788f7384ff",
   "metadata": {},
   "outputs": [
    {
     "name": "stdout",
     "output_type": "stream",
     "text": [
      "[13, 11, 46, 46, 11, 13]\n"
     ]
    }
   ],
   "source": [
    "# Solving with Logic behind it.\n",
    "\n",
    "A = [20,18,30,46,11,13]\n",
    "n = len(A)\n",
    "\n",
    "for i in range(n//2):\n",
    "    A[i] = A[n-1-i]\n",
    "    A[n-1-i] = A[i]\n",
    "\n",
    "print(A)"
   ]
  },
  {
   "cell_type": "code",
   "execution_count": null,
   "id": "43c15b39-fa72-4b17-a407-5230ca9408bd",
   "metadata": {},
   "outputs": [],
   "source": []
  },
  {
   "cell_type": "code",
   "execution_count": null,
   "id": "99f5715e-f48e-4df7-b786-1f264f9214d4",
   "metadata": {},
   "outputs": [],
   "source": []
  },
  {
   "cell_type": "code",
   "execution_count": null,
   "id": "7739a579-d75d-4cab-b1af-cd346c9c4a27",
   "metadata": {},
   "outputs": [],
   "source": []
  },
  {
   "cell_type": "code",
   "execution_count": null,
   "id": "7eaef6b2-4c8e-48fc-ba3a-7924d6dc8aa6",
   "metadata": {},
   "outputs": [],
   "source": []
  },
  {
   "cell_type": "code",
   "execution_count": null,
   "id": "fc77dec8-96b2-49c3-8dde-15ce927ec67a",
   "metadata": {},
   "outputs": [],
   "source": []
  },
  {
   "cell_type": "code",
   "execution_count": null,
   "id": "a025cb56-ca63-4a85-9664-82c2e2af1ab6",
   "metadata": {},
   "outputs": [],
   "source": []
  },
  {
   "cell_type": "code",
   "execution_count": 35,
   "id": "5905dace-6957-41b2-8649-050ad3babb86",
   "metadata": {},
   "outputs": [
    {
     "name": "stdout",
     "output_type": "stream",
     "text": [
      "Reversing list without logic :  [45, 50, 14, 12, 32, 25, 20, 15, 10, 5]\n",
      "45\n",
      "50\n",
      "14\n",
      "12\n",
      "32\n",
      "[45, 50, 14, 12, 32, 25, 20, 15, 10, 5]\n"
     ]
    }
   ],
   "source": [
    "A = [5,10,15,20,25,32,12,14,50,45]\n",
    "n = len(A)\n",
    "print(f'Reversing list without logic : ', A[::-1])\n",
    "for i in range(n//2):\n",
    "    A[i], A[n-1-i] = A[n-1-i], A[i]\n",
    "    print(A[i])\n",
    "print(A)\n",
    "    \n"
   ]
  }
 ],
 "metadata": {
  "kernelspec": {
   "display_name": "Python 3 (ipykernel)",
   "language": "python",
   "name": "python3"
  },
  "language_info": {
   "codemirror_mode": {
    "name": "ipython",
    "version": 3
   },
   "file_extension": ".py",
   "mimetype": "text/x-python",
   "name": "python",
   "nbconvert_exporter": "python",
   "pygments_lexer": "ipython3",
   "version": "3.12.4"
  }
 },
 "nbformat": 4,
 "nbformat_minor": 5
}
