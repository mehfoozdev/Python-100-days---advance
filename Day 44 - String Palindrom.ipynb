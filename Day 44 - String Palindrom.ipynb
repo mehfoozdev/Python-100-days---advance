{
 "cells": [
  {
   "cell_type": "code",
   "execution_count": 2,
   "id": "be810f15-656d-429c-9b60-833f1e0db349",
   "metadata": {},
   "outputs": [],
   "source": [
    "#string palindrom"
   ]
  },
  {
   "cell_type": "code",
   "execution_count": 6,
   "id": "65a6b8df-39b5-4380-8f92-e2fed4c58cd1",
   "metadata": {},
   "outputs": [
    {
     "name": "stdout",
     "output_type": "stream",
     "text": [
      "palindrom :  zoofhem\n"
     ]
    }
   ],
   "source": [
    "name_s = \"mehfooz\"\n",
    "print(\"palindrom : \", name_s[::-1])"
   ]
  },
  {
   "cell_type": "code",
   "execution_count": null,
   "id": "d2261e68-a1f3-46df-a262-2ccae6914fac",
   "metadata": {},
   "outputs": [],
   "source": []
  },
  {
   "cell_type": "code",
   "execution_count": 10,
   "id": "00590089-529f-4e67-a624-342897b39090",
   "metadata": {},
   "outputs": [
    {
     "name": "stdin",
     "output_type": "stream",
     "text": [
      "Enter a string :  hyh\n"
     ]
    },
    {
     "name": "stdout",
     "output_type": "stream",
     "text": [
      "String is :  hyh\n",
      "Reverse is :  hyh\n",
      "It's a Palindrome\n"
     ]
    }
   ],
   "source": [
    "#Checking Palindrom\n",
    "\n",
    "text = input(\"Enter a string : \" )\n",
    "rev = text[::-1]\n",
    "\n",
    "print(\"String is : \", text)\n",
    "print(\"Reverse is : \", rev)\n",
    "\n",
    "if text == rev:\n",
    "    print(\"It's a Palindrome\")\n",
    "else:\n",
    "    print(\"It's not a Palindrome\")\n"
   ]
  },
  {
   "cell_type": "code",
   "execution_count": 12,
   "id": "24112de2-5724-4c21-8419-af3da5f21258",
   "metadata": {},
   "outputs": [
    {
     "name": "stdin",
     "output_type": "stream",
     "text": [
      "Enter a string :  nitin\n"
     ]
    },
    {
     "name": "stdout",
     "output_type": "stream",
     "text": [
      "String is :  nitin\n",
      "Reverse is :  nitin\n",
      "It's a Palindrome\n"
     ]
    }
   ],
   "source": [
    "#Checking Palindrom\n",
    "\n",
    "text = input(\"Enter a string : \" )\n",
    "rev = text[::-1]\n",
    "\n",
    "print(\"String is : \", text)\n",
    "print(\"Reverse is : \", rev)\n",
    "\n",
    "if text == rev:\n",
    "    print(\"It's a Palindrome\")\n",
    "else:\n",
    "    print(\"It's not a Palindrome\")\n"
   ]
  },
  {
   "cell_type": "code",
   "execution_count": null,
   "id": "a8998377-7b9a-4f80-9b9e-da21efef3f4f",
   "metadata": {},
   "outputs": [],
   "source": []
  },
  {
   "cell_type": "code",
   "execution_count": 14,
   "id": "fdd24bb4-279d-4126-aebc-06d1070d903e",
   "metadata": {},
   "outputs": [
    {
     "name": "stdin",
     "output_type": "stream",
     "text": [
      "Enter a string :  mehfooz\n"
     ]
    },
    {
     "name": "stdout",
     "output_type": "stream",
     "text": [
      "Reverse :  zoofhem\n"
     ]
    }
   ],
   "source": [
    "#Checking Palindrom\n",
    "\n",
    "text = input(\"Enter a string : \" )\n",
    "rev = \"\"\n",
    "\n",
    "for i in range(len(text)-1,-1,-1):\n",
    "    rev += text[i]\n",
    "\n",
    "print(\"Reverse : \",rev)\n"
   ]
  }
 ],
 "metadata": {
  "kernelspec": {
   "display_name": "Python 3 (ipykernel)",
   "language": "python",
   "name": "python3"
  },
  "language_info": {
   "codemirror_mode": {
    "name": "ipython",
    "version": 3
   },
   "file_extension": ".py",
   "mimetype": "text/x-python",
   "name": "python",
   "nbconvert_exporter": "python",
   "pygments_lexer": "ipython3",
   "version": "3.12.4"
  }
 },
 "nbformat": 4,
 "nbformat_minor": 5
}
