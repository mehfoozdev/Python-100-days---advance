{
 "cells": [
  {
   "cell_type": "code",
   "execution_count": 1,
   "id": "cfe2e050-9df0-4e6c-9aae-3e416a5703bd",
   "metadata": {},
   "outputs": [
    {
     "name": "stdin",
     "output_type": "stream",
     "text": [
      "Enter a String :  mehfooz\n"
     ]
    },
    {
     "name": "stdout",
     "output_type": "stream",
     "text": [
      "No of vowels :  3\n"
     ]
    }
   ],
   "source": [
    "text = input(\"Enter a String : \")\n",
    "c = 0\n",
    "\n",
    "for ch in text:\n",
    "    if ch in 'aeiouAEIOU':\n",
    "        c += 1\n",
    "\n",
    "print(\"No of vowels : \", c)"
   ]
  },
  {
   "cell_type": "code",
   "execution_count": 7,
   "id": "2527cf41-d917-4a71-9f90-aed87fdd5cc6",
   "metadata": {},
   "outputs": [
    {
     "name": "stdin",
     "output_type": "stream",
     "text": [
      "Enter a String :  k\n"
     ]
    },
    {
     "name": "stdout",
     "output_type": "stream",
     "text": [
      "No of vowels :  0\n"
     ]
    }
   ],
   "source": [
    "text = input(\"Enter a String : \")\n",
    "c = 0\n",
    "\n",
    "for ch in text:\n",
    "    if ch in 'aeiouAEIOU':\n",
    "        c += 1\n",
    "\n",
    "print(\"No of vowels : \", c)"
   ]
  }
 ],
 "metadata": {
  "kernelspec": {
   "display_name": "Python 3 (ipykernel)",
   "language": "python",
   "name": "python3"
  },
  "language_info": {
   "codemirror_mode": {
    "name": "ipython",
    "version": 3
   },
   "file_extension": ".py",
   "mimetype": "text/x-python",
   "name": "python",
   "nbconvert_exporter": "python",
   "pygments_lexer": "ipython3",
   "version": "3.12.4"
  }
 },
 "nbformat": 4,
 "nbformat_minor": 5
}
