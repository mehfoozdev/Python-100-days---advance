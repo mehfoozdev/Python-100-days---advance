{
 "cells": [
  {
   "cell_type": "code",
   "execution_count": 1,
   "id": "63d1d122-4908-4649-be8a-4744859e1073",
   "metadata": {},
   "outputs": [],
   "source": [
    "# Day 55 - Check if email is valid or not"
   ]
  },
  {
   "cell_type": "code",
   "execution_count": 29,
   "id": "9c872541-6cec-4f4a-850c-d3c045bdf9e1",
   "metadata": {},
   "outputs": [
    {
     "name": "stdin",
     "output_type": "stream",
     "text": [
      "Enter an email :  mehfooz.connect@gmail.com\n"
     ]
    },
    {
     "name": "stdout",
     "output_type": "stream",
     "text": [
      "You have entered a valid email\n"
     ]
    }
   ],
   "source": [
    "email = input(\"Enter an email : \" )\n",
    "special = \"._\"\n",
    "count = 0\n",
    "\n",
    "if email.endswith(\".com\") and not email.endswith(\"@\") and not email.startswith(\"@\"):\n",
    "    if (\"@\" in email) and email.count(\"@\")==1:\n",
    "        print(\"You have entered a valid email\")\n",
    "    else:\n",
    "        print(\"Not valid email\")\n",
    "else:\n",
    "    print(\"Not valid email\")\n",
    "        "
   ]
  },
  {
   "cell_type": "code",
   "execution_count": 43,
   "id": "cd59a4b4-14ba-4e1c-8d74-3082a3dd2e35",
   "metadata": {},
   "outputs": [
    {
     "name": "stdin",
     "output_type": "stream",
     "text": [
      "Enter an email :  mehfooz.connect123@gmail.com\n"
     ]
    },
    {
     "name": "stdout",
     "output_type": "stream",
     "text": [
      "You have entered a valid email\n"
     ]
    }
   ],
   "source": [
    "email = input(\"Enter an email : \" )\n",
    "special = \"._\"\n",
    "count = 0\n",
    "\n",
    "if email.endswith(\".com\") and not email.endswith(\"@\") and not email.startswith(\"@\"):\n",
    "    if (\"@\" in email) and email.count(\"@\")==1:\n",
    "        for ch in email:\n",
    "            if ch.isalpha() or ch.isdigit() or ch == \".\" or ch==\"@\":\n",
    "                continue\n",
    "            else:\n",
    "                print(\"Not a valid email\")\n",
    "                break\n",
    "        print(\"You have entered a valid email\")\n",
    "    else:\n",
    "        print(\"Not valid email\")\n",
    "else:\n",
    "    print(\"Not valid email\")\n",
    "        "
   ]
  },
  {
   "cell_type": "code",
   "execution_count": null,
   "id": "1bca401a-3858-485f-8c87-5fbbda6a4618",
   "metadata": {},
   "outputs": [],
   "source": []
  }
 ],
 "metadata": {
  "kernelspec": {
   "display_name": "Python 3 (ipykernel)",
   "language": "python",
   "name": "python3"
  },
  "language_info": {
   "codemirror_mode": {
    "name": "ipython",
    "version": 3
   },
   "file_extension": ".py",
   "mimetype": "text/x-python",
   "name": "python",
   "nbconvert_exporter": "python",
   "pygments_lexer": "ipython3",
   "version": "3.12.4"
  }
 },
 "nbformat": 4,
 "nbformat_minor": 5
}
