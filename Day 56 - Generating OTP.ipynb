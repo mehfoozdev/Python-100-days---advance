{
 "cells": [
  {
   "cell_type": "code",
   "execution_count": 1,
   "id": "78969958-77fc-4728-ae39-dc77e50d13a9",
   "metadata": {},
   "outputs": [],
   "source": [
    "# Generating OTP"
   ]
  },
  {
   "cell_type": "code",
   "execution_count": 33,
   "id": "f85faa4f-6029-4df5-a54b-3e0768fffa2a",
   "metadata": {},
   "outputs": [
    {
     "name": "stdout",
     "output_type": "stream",
     "text": [
      "Your OPT is : 0 8 9 9 "
     ]
    }
   ],
   "source": [
    "import random\n",
    "\n",
    "otp = []\n",
    "\n",
    "for i in range(4):\n",
    "    digit = random.randint(0,9)\n",
    "    otp.append(digit)\n",
    "\n",
    "print(\"Your OPT is : \", end='')\n",
    "for d in otp:\n",
    "    print(d,end=\" \")"
   ]
  },
  {
   "cell_type": "code",
   "execution_count": null,
   "id": "dcde5a02-282e-4d9e-b143-e31652d09ca8",
   "metadata": {},
   "outputs": [],
   "source": []
  },
  {
   "cell_type": "code",
   "execution_count": 45,
   "id": "80189542-223b-485d-bb56-e12a4496bb11",
   "metadata": {},
   "outputs": [
    {
     "name": "stdout",
     "output_type": "stream",
     "text": [
      "Your OPT is : 8 7 3 0 "
     ]
    }
   ],
   "source": [
    "import random\n",
    "otp = []\n",
    "i = 0 \n",
    "\n",
    "while i<4:    \n",
    "    digit = random.randint(0,9)\n",
    "    if digit not in otp:\n",
    "        otp.append(digit)\n",
    "        i += 1\n",
    "\n",
    "print(\"Your OPT is : \", end='')\n",
    "for d in otp:\n",
    "    print(d,end=\" \")"
   ]
  },
  {
   "cell_type": "code",
   "execution_count": null,
   "id": "e0674075-5f01-4d7c-b59f-e9e8e82b0ba3",
   "metadata": {},
   "outputs": [],
   "source": []
  }
 ],
 "metadata": {
  "kernelspec": {
   "display_name": "Python 3 (ipykernel)",
   "language": "python",
   "name": "python3"
  },
  "language_info": {
   "codemirror_mode": {
    "name": "ipython",
    "version": 3
   },
   "file_extension": ".py",
   "mimetype": "text/x-python",
   "name": "python",
   "nbconvert_exporter": "python",
   "pygments_lexer": "ipython3",
   "version": "3.12.4"
  }
 },
 "nbformat": 4,
 "nbformat_minor": 5
}
