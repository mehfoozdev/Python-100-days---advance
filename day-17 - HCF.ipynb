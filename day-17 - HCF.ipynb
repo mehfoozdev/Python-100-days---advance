{
 "cells": [
  {
   "cell_type": "markdown",
   "metadata": {},
   "source": [
    "# Python Basics to Advance (100 Days)"
   ]
  },
  {
   "cell_type": "markdown",
   "metadata": {},
   "source": [
    "#### Day 17 | HCF of Two Number"
   ]
  },
  {
   "cell_type": "code",
   "execution_count": 7,
   "metadata": {},
   "outputs": [
    {
     "name": "stdout",
     "output_type": "stream",
     "text": [
      "rem :  32\n",
      "n1 :  60\n",
      "n2 :  32\n",
      "rem :  28\n",
      "n1 :  32\n",
      "n2 :  28\n",
      "rem :  4\n",
      "n1 :  28\n",
      "n2 :  4\n",
      "------------------\n",
      "HCF is :  4\n"
     ]
    }
   ],
   "source": [
    "n1 = int(input('Enter number 1 : '))\n",
    "n2 = int(input('Enter number 2 : '))\n",
    "\n",
    "while n1 % n2 != 0:\n",
    "    rem = n1 % n2\n",
    "    print('rem : ', rem)\n",
    "    n1 = n2\n",
    "    print('n1 : ', n1)\n",
    "    n2 = rem\n",
    "    print('n2 : ', n2)\n",
    "\n",
    "print('------------------')\n",
    "print('HCF is : ', n2)\n",
    "    "
   ]
  },
  {
   "cell_type": "code",
   "execution_count": null,
   "metadata": {},
   "outputs": [],
   "source": []
  }
 ],
 "metadata": {
  "kernelspec": {
   "display_name": "Python 3",
   "language": "python",
   "name": "python3"
  },
  "language_info": {
   "codemirror_mode": {
    "name": "ipython",
    "version": 3
   },
   "file_extension": ".py",
   "mimetype": "text/x-python",
   "name": "python",
   "nbconvert_exporter": "python",
   "pygments_lexer": "ipython3",
   "version": "3.9.5"
  }
 },
 "nbformat": 4,
 "nbformat_minor": 2
}
