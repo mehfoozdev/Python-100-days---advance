{
 "cells": [
  {
   "cell_type": "code",
   "execution_count": 21,
   "id": "ed73e5b7-4f26-4733-a79b-c26e86fad1ef",
   "metadata": {},
   "outputs": [
    {
     "name": "stdin",
     "output_type": "stream",
     "text": [
      "Enter your name :  mehfooz ali\n"
     ]
    },
    {
     "name": "stdout",
     "output_type": "stream",
     "text": [
      "Please enter correct name !\n"
     ]
    }
   ],
   "source": [
    "def isValid(name):\n",
    "    if name.isalpha() or name.isspace():\n",
    "        print(\"Your name : \", name)\n",
    "    else:\n",
    "        print(\"Please enter correct name !\")\n",
    "\n",
    "name = input(\"Enter your name : \")\n",
    "isValid(name)"
   ]
  },
  {
   "cell_type": "code",
   "execution_count": null,
   "id": "c5588cf7-2613-47e1-bd51-aa0a64dcf3b5",
   "metadata": {},
   "outputs": [],
   "source": []
  },
  {
   "cell_type": "code",
   "execution_count": null,
   "id": "c2337b92-016d-4def-8a8c-6a3cc8be9fc6",
   "metadata": {},
   "outputs": [],
   "source": []
  },
  {
   "cell_type": "code",
   "execution_count": 49,
   "id": "1b98796c-de4a-447c-82ab-5939ca36bae5",
   "metadata": {},
   "outputs": [
    {
     "name": "stdin",
     "output_type": "stream",
     "text": [
      "Enter your name :  Mehfpoz Ali 222\n"
     ]
    },
    {
     "name": "stdout",
     "output_type": "stream",
     "text": [
      "Invalid name \n"
     ]
    }
   ],
   "source": [
    "def isValid(name):\n",
    "    for ch in name:\n",
    "        if not (ch.isalpha() or ch == ' '):\n",
    "            return False\n",
    "    else:\n",
    "        return True\n",
    "            \n",
    "name = input(\"Enter your name : \")\n",
    "if isValid(name):\n",
    "    print(\"Valid name : \",name)\n",
    "else:\n",
    "    print(\"Invalid name \")\n",
    "    "
   ]
  },
  {
   "cell_type": "markdown",
   "id": "9676d779-dfe2-44db-85b8-425f88970a23",
   "metadata": {},
   "source": [
    "#### "
   ]
  }
 ],
 "metadata": {
  "kernelspec": {
   "display_name": "Python 3 (ipykernel)",
   "language": "python",
   "name": "python3"
  },
  "language_info": {
   "codemirror_mode": {
    "name": "ipython",
    "version": 3
   },
   "file_extension": ".py",
   "mimetype": "text/x-python",
   "name": "python",
   "nbconvert_exporter": "python",
   "pygments_lexer": "ipython3",
   "version": "3.12.4"
  }
 },
 "nbformat": 4,
 "nbformat_minor": 5
}
