{
 "cells": [
  {
   "cell_type": "code",
   "execution_count": 7,
   "id": "b03cc93e-7c33-45de-9d94-17899c0581eb",
   "metadata": {},
   "outputs": [
    {
     "name": "stdout",
     "output_type": "stream",
     "text": [
      "[3, 5, 7, 10, 20, 35]\n"
     ]
    }
   ],
   "source": [
    "#Bubble Sort\n",
    "\n",
    "A= [10,7,5,20,35,3]\n",
    "n = len(A)\n",
    "\n",
    "for i in range(n-1):\n",
    "    for j in range(0,n-1-i):\n",
    "        if A[j] > A[j+1]:\n",
    "            A[j],A[j+1] = A[j+1],A[j]\n",
    "\n",
    "print(A)\n",
    "        "
   ]
  }
 ],
 "metadata": {
  "kernelspec": {
   "display_name": "Python 3 (ipykernel)",
   "language": "python",
   "name": "python3"
  },
  "language_info": {
   "codemirror_mode": {
    "name": "ipython",
    "version": 3
   },
   "file_extension": ".py",
   "mimetype": "text/x-python",
   "name": "python",
   "nbconvert_exporter": "python",
   "pygments_lexer": "ipython3",
   "version": "3.12.4"
  }
 },
 "nbformat": 4,
 "nbformat_minor": 5
}
