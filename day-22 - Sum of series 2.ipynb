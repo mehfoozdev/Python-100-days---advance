{
 "cells": [
  {
   "cell_type": "markdown",
   "metadata": {},
   "source": [
    "# Python Basics to Advance (100 Days)"
   ]
  },
  {
   "cell_type": "markdown",
   "metadata": {},
   "source": [
    "#### Day 22 - Sum of Series | Sum of Series"
   ]
  },
  {
   "cell_type": "code",
   "execution_count": 7,
   "metadata": {},
   "outputs": [
    {
     "name": "stdout",
     "output_type": "stream",
     "text": [
      "2^1 + 2^2 + 2^3 + 2*4\n",
      "\n",
      "Value of s :  30\n"
     ]
    }
   ],
   "source": [
    "x = int(input('Enter a number x : '))\n",
    "n = int(input('Enter a number n: '))\n",
    "s = 0\n",
    "\n",
    "for a in range(1, n+1):\n",
    "    #Print series\n",
    "    if a<n:\n",
    "        print(f'{x}^{a}', end=' + ')\n",
    "    else:\n",
    "        print(f'{x}^{a}')\n",
    "    s += x ** a\n",
    "\n",
    "print('\\nValue of s : ', s)"
   ]
  },
  {
   "cell_type": "code",
   "execution_count": null,
   "metadata": {},
   "outputs": [],
   "source": []
  },
  {
   "cell_type": "code",
   "execution_count": null,
   "metadata": {},
   "outputs": [],
   "source": []
  }
 ],
 "metadata": {
  "kernelspec": {
   "display_name": "Python 3",
   "language": "python",
   "name": "python3"
  },
  "language_info": {
   "codemirror_mode": {
    "name": "ipython",
    "version": 3
   },
   "file_extension": ".py",
   "mimetype": "text/x-python",
   "name": "python",
   "nbconvert_exporter": "python",
   "pygments_lexer": "ipython3",
   "version": "3.9.5"
  }
 },
 "nbformat": 4,
 "nbformat_minor": 2
}
