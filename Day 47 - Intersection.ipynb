{
 "cells": [
  {
   "cell_type": "code",
   "execution_count": null,
   "id": "f24cf5d1-cd04-4810-9d12-4b7c2c53fefe",
   "metadata": {},
   "outputs": [],
   "source": [
    "#Union and Intersection.\n",
    "#union => Combined of both list\n",
    "#intersection => only take common elemnts"
   ]
  },
  {
   "cell_type": "code",
   "execution_count": 5,
   "id": "57c24c47-911a-4f9e-abb8-983a5f953d18",
   "metadata": {},
   "outputs": [
    {
     "name": "stdout",
     "output_type": "stream",
     "text": [
      "[10, 15, 20, 23, 28]\n",
      "[2, 12, 35, 20, 28]\n",
      "[10, 15, 20, 23, 28, 2, 12, 35]\n"
     ]
    }
   ],
   "source": [
    "#Union\n",
    "A = [10,15,20,23,28]\n",
    "B = [2,12,35,20,28]\n",
    "\n",
    "C = A.copy()\n",
    "for a in B:\n",
    "    if a not in C:\n",
    "        C.append(a)\n",
    "print(A)\n",
    "print(B)\n",
    "print(C)"
   ]
  },
  {
   "cell_type": "code",
   "execution_count": null,
   "id": "58929c1b-2bf5-4312-8750-b1ed9c465d38",
   "metadata": {},
   "outputs": [],
   "source": []
  },
  {
   "cell_type": "code",
   "execution_count": 7,
   "id": "733410c3-d2e7-44c2-b81e-70807a603656",
   "metadata": {},
   "outputs": [
    {
     "name": "stdout",
     "output_type": "stream",
     "text": [
      "[10, 15, 20, 23, 28]\n",
      "[2, 12, 35, 20, 28]\n",
      "[]\n"
     ]
    }
   ],
   "source": [
    "#Intersection => Common\n",
    "A = [10,15,20,23,28]\n",
    "B = [2,12,35,20,28]\n",
    "C = []\n",
    "\n",
    "for a in B:\n",
    "    if a in C:\n",
    "        C.append(a)\n",
    "print(A)\n",
    "print(B)\n",
    "print(C)"
   ]
  }
 ],
 "metadata": {
  "kernelspec": {
   "display_name": "Python 3 (ipykernel)",
   "language": "python",
   "name": "python3"
  },
  "language_info": {
   "codemirror_mode": {
    "name": "ipython",
    "version": 3
   },
   "file_extension": ".py",
   "mimetype": "text/x-python",
   "name": "python",
   "nbconvert_exporter": "python",
   "pygments_lexer": "ipython3",
   "version": "3.12.4"
  }
 },
 "nbformat": 4,
 "nbformat_minor": 5
}
