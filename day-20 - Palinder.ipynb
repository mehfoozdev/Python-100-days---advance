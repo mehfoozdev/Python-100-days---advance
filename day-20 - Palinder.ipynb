{
 "cells": [
  {
   "cell_type": "markdown",
   "metadata": {},
   "source": [
    "# Python Basics to Advance (100 Days)"
   ]
  },
  {
   "cell_type": "markdown",
   "metadata": {},
   "source": [
    "#### Day 20 - Check Palindrom | Sum of Digits"
   ]
  },
  {
   "cell_type": "code",
   "execution_count": 4,
   "metadata": {},
   "outputs": [
    {
     "name": "stdout",
     "output_type": "stream",
     "text": [
      "Result :  765\n",
      "567 is not a palindrom\n"
     ]
    }
   ],
   "source": [
    "num = int(input('Enter a number : '))\n",
    "result = 0\n",
    "a = num\n",
    "\n",
    "while a > 0:\n",
    "    d = a % 10 \n",
    "    result = result * 10 + d\n",
    "    a = a // 10\n",
    "    \n",
    "if num == result:\n",
    "    print(num, 'is a Palindrom')\n",
    "else:\n",
    "    print(num, 'is not a palindrom')\n",
    "    \n",
    "print('Result : ', result)\n",
    "\n",
    "    \n"
   ]
  },
  {
   "cell_type": "code",
   "execution_count": null,
   "metadata": {},
   "outputs": [],
   "source": []
  }
 ],
 "metadata": {
  "kernelspec": {
   "display_name": "Python 3",
   "language": "python",
   "name": "python3"
  },
  "language_info": {
   "codemirror_mode": {
    "name": "ipython",
    "version": 3
   },
   "file_extension": ".py",
   "mimetype": "text/x-python",
   "name": "python",
   "nbconvert_exporter": "python",
   "pygments_lexer": "ipython3",
   "version": "3.9.5"
  }
 },
 "nbformat": 4,
 "nbformat_minor": 2
}
