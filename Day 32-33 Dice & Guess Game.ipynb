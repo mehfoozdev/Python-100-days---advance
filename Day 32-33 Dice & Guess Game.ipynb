{
 "cells": [
  {
   "cell_type": "code",
   "execution_count": 13,
   "id": "cdc4bb53-e440-41ad-bbe8-0f453951cddd",
   "metadata": {},
   "outputs": [],
   "source": [
    "import random\n",
    "import time"
   ]
  },
  {
   "cell_type": "code",
   "execution_count": 15,
   "id": "0a7698b0-4ab9-4ba2-b711-8a5d698928d4",
   "metadata": {},
   "outputs": [
    {
     "name": "stdin",
     "output_type": "stream",
     "text": [
      "Enter name of Player 1 :  f\n",
      "Enter name of Player 2 :  f\n"
     ]
    },
    {
     "name": "stdout",
     "output_type": "stream",
     "text": [
      "Plater 1 got :  6\n",
      "Plater 2 got :  3\n",
      "f Wins\n"
     ]
    }
   ],
   "source": [
    "name1 = input('Enter name of Player 1 : ')\n",
    "name2 = input('Enter name of Player 2 : ')\n",
    "\n",
    "val1 = random.randint(1,6)\n",
    "val2 = random.randint(1,6)\n",
    "\n",
    "print(\"Plater 1 got : \", val1)\n",
    "time.sleep(2)\n",
    "print(\"Plater 2 got : \", val2)\n",
    "time.sleep(2)\n",
    "\n",
    "if val1 > val2:\n",
    "    print(name1, \"Wins\")\n",
    "elif val1 < val2:\n",
    "    print(name2, \"wins\")\n",
    "else:\n",
    "    print('Draw')\n",
    "    \n"
   ]
  },
  {
   "cell_type": "code",
   "execution_count": null,
   "id": "21f756b7-9c67-4ca8-8c48-0eea34d4a873",
   "metadata": {},
   "outputs": [],
   "source": []
  },
  {
   "cell_type": "code",
   "execution_count": null,
   "id": "88bb540a-f3fa-4e98-9c40-4e2f120770bb",
   "metadata": {},
   "outputs": [],
   "source": []
  },
  {
   "cell_type": "code",
   "execution_count": 20,
   "id": "03cea248-ad4c-46e1-a99f-45f5ab4ac8fe",
   "metadata": {},
   "outputs": [],
   "source": [
    "#GUEST GAME"
   ]
  },
  {
   "cell_type": "code",
   "execution_count": 22,
   "id": "766d9ddf-e2c9-4f9f-96f0-fac3f2422cf3",
   "metadata": {},
   "outputs": [],
   "source": [
    "import random"
   ]
  },
  {
   "cell_type": "code",
   "execution_count": 48,
   "id": "c9779f6e-28a3-4d3c-baf5-f8daa4b4d998",
   "metadata": {},
   "outputs": [
    {
     "name": "stdin",
     "output_type": "stream",
     "text": [
      "Enter guess number between 20 to 70 :  30\n"
     ]
    },
    {
     "name": "stdout",
     "output_type": "stream",
     "text": [
      "Keep trying, your number 30 and guess number 24\n"
     ]
    },
    {
     "name": "stdin",
     "output_type": "stream",
     "text": [
      "Enter guess number between 20 to 70 :  24\n"
     ]
    },
    {
     "name": "stdout",
     "output_type": "stream",
     "text": [
      "Congrats, You won !\n"
     ]
    }
   ],
   "source": [
    "num = random.randint(20,70)\n",
    "\n",
    "try:\n",
    "    for i in range(5):\n",
    "        guess = int(input(\"Enter guess number between 20 to 70 : \"))\n",
    "        if guess == num:\n",
    "            print(\"Congrats, You won !\")\n",
    "            break\n",
    "        else:\n",
    "            print(f\"Keep trying, your number {guess} and guess number {num}\")\n",
    "    else:\n",
    "        print(\"Sorry, You lost the game ! \")\n",
    "    \n",
    "except Exception as e:\n",
    "    print(\"You have entered invalid input : \",e)\n",
    "    "
   ]
  }
 ],
 "metadata": {
  "kernelspec": {
   "display_name": "Python 3 (ipykernel)",
   "language": "python",
   "name": "python3"
  },
  "language_info": {
   "codemirror_mode": {
    "name": "ipython",
    "version": 3
   },
   "file_extension": ".py",
   "mimetype": "text/x-python",
   "name": "python",
   "nbconvert_exporter": "python",
   "pygments_lexer": "ipython3",
   "version": "3.12.4"
  }
 },
 "nbformat": 4,
 "nbformat_minor": 5
}
