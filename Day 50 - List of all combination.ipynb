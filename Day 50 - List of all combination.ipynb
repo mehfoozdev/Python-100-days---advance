{
 "cells": [
  {
   "cell_type": "code",
   "execution_count": 11,
   "id": "b449f405-68e0-4df9-a13c-203486105295",
   "metadata": {},
   "outputs": [],
   "source": [
    "#Print all combination of 3 digits"
   ]
  },
  {
   "cell_type": "code",
   "execution_count": 39,
   "id": "6f9ff9de-457c-4e7c-8dbf-a62d3bc61c96",
   "metadata": {},
   "outputs": [
    {
     "name": "stdin",
     "output_type": "stream",
     "text": [
      "Enter n1 :  2\n",
      "Enter n2 :  3\n",
      "Enter n3 :  4\n"
     ]
    },
    {
     "name": "stdout",
     "output_type": "stream",
     "text": [
      "2 3 4\n",
      "2 4 3\n",
      "3 2 4\n",
      "3 4 2\n",
      "4 2 3\n",
      "4 3 2\n"
     ]
    }
   ],
   "source": [
    "n1 = int(input(\"Enter n1 : \"))\n",
    "n2 = int(input(\"Enter n2 : \"))\n",
    "n3 = int(input(\"Enter n3 : \"))\n",
    "res = [n1,n2,n3]\n",
    "len = len(res)\n",
    "\n",
    "for a in range(len):\n",
    "    for b in range(len):\n",
    "        for c in range(len):\n",
    "            if a != b and b != c and a != c:\n",
    "                print(res[a],res[b],res[c])\n",
    "\n"
   ]
  },
  {
   "cell_type": "code",
   "execution_count": null,
   "id": "95c35887-c368-45d9-b45a-eb9b3c48cb63",
   "metadata": {},
   "outputs": [],
   "source": []
  },
  {
   "cell_type": "code",
   "execution_count": null,
   "id": "117277ec-3c6b-4f01-a52b-429e4a43307a",
   "metadata": {},
   "outputs": [],
   "source": []
  },
  {
   "cell_type": "code",
   "execution_count": null,
   "id": "8b32c3bb-07d4-413c-a988-6d489e6ffaa5",
   "metadata": {},
   "outputs": [],
   "source": []
  }
 ],
 "metadata": {
  "kernelspec": {
   "display_name": "Python 3 (ipykernel)",
   "language": "python",
   "name": "python3"
  },
  "language_info": {
   "codemirror_mode": {
    "name": "ipython",
    "version": 3
   },
   "file_extension": ".py",
   "mimetype": "text/x-python",
   "name": "python",
   "nbconvert_exporter": "python",
   "pygments_lexer": "ipython3",
   "version": "3.12.4"
  }
 },
 "nbformat": 4,
 "nbformat_minor": 5
}
