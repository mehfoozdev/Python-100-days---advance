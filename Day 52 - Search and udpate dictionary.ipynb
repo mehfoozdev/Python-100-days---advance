{
 "cells": [
  {
   "cell_type": "code",
   "execution_count": 1,
   "id": "5d28e686-f271-4e56-94e7-fa3e77fdc9e6",
   "metadata": {},
   "outputs": [],
   "source": [
    "#Search and udpate dictionary"
   ]
  },
  {
   "cell_type": "code",
   "execution_count": 15,
   "id": "723686a9-07b8-4ad9-83ee-1c2a47b49f76",
   "metadata": {},
   "outputs": [
    {
     "name": "stdin",
     "output_type": "stream",
     "text": [
      "Enter a employee number to be saved :  2\n",
      "Enter employee name :  mehfooz\n",
      "Enter the salary :  55556\n",
      "Enter employee name :  ayan\n",
      "Enter the salary :  3334\n"
     ]
    },
    {
     "name": "stdout",
     "output_type": "stream",
     "text": [
      "Employee List :  {'mehfooz': 55556, 'ayan': 3334}\n"
     ]
    },
    {
     "name": "stdin",
     "output_type": "stream",
     "text": [
      "Enter a Employee name whose salary has to be increased :  zubair\n"
     ]
    },
    {
     "name": "stdout",
     "output_type": "stream",
     "text": [
      "No employee found with given name \n",
      "Update Employee List :  {'mehfooz': 55556, 'ayan': 3334}\n"
     ]
    }
   ],
   "source": [
    "employee = {}\n",
    "n = int(input(\"Enter a employee number to be saved : \"))\n",
    "\n",
    "def create(employee, n):\n",
    "    for i in range(n):\n",
    "        ename = input(\"Enter employee name : \")\n",
    "        sal = int(input(\"Enter the salary : \"))\n",
    "        employee[ename] = sal\n",
    "    return employee\n",
    "        \n",
    "def searchEmployee(employee, name):\n",
    "    if name in employee:\n",
    "        employee[name] += employee[name] * 25/100\n",
    "        print(\"Salary Increased !!\")\n",
    "    else:\n",
    "        print(\"No employee found with given name \")\n",
    "    \n",
    "create(employee, n)\n",
    "print(\"Employee List : \", employee)\n",
    "\n",
    "name = input(\"Enter a Employee name whose salary has to be increased : \")\n",
    "searchEmployee(employee, name)\n",
    "print(\"Update Employee List : \", employee)\n",
    "\n",
    "\n"
   ]
  },
  {
   "cell_type": "code",
   "execution_count": null,
   "id": "e1e25db2-11c2-4153-9a07-e8602e82b41a",
   "metadata": {},
   "outputs": [],
   "source": []
  }
 ],
 "metadata": {
  "kernelspec": {
   "display_name": "Python 3 (ipykernel)",
   "language": "python",
   "name": "python3"
  },
  "language_info": {
   "codemirror_mode": {
    "name": "ipython",
    "version": 3
   },
   "file_extension": ".py",
   "mimetype": "text/x-python",
   "name": "python",
   "nbconvert_exporter": "python",
   "pygments_lexer": "ipython3",
   "version": "3.12.4"
  }
 },
 "nbformat": 4,
 "nbformat_minor": 5
}
